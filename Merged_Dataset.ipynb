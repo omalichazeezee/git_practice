{
 "cells": [
  {
   "cell_type": "markdown",
   "id": "014cf994",
   "metadata": {},
   "source": [
    "### Data Merging "
   ]
  },
  {
   "cell_type": "markdown",
   "id": "10e070fd",
   "metadata": {},
   "source": [
    "#### Import Libraries "
   ]
  },
  {
   "cell_type": "code",
   "execution_count": 1,
   "id": "ba7b3ee2",
   "metadata": {},
   "outputs": [],
   "source": [
    "import os\n",
    "import pandas as pd\n",
    "import numpy as np"
   ]
  },
  {
   "cell_type": "markdown",
   "id": "3a7524ec",
   "metadata": {},
   "source": [
    "#### Import Dataset "
   ]
  },
  {
   "cell_type": "code",
   "execution_count": 2,
   "id": "a6a74fb2",
   "metadata": {
    "collapsed": true
   },
   "outputs": [
    {
     "data": {
      "text/html": [
       "<div>\n",
       "<style scoped>\n",
       "    .dataframe tbody tr th:only-of-type {\n",
       "        vertical-align: middle;\n",
       "    }\n",
       "\n",
       "    .dataframe tbody tr th {\n",
       "        vertical-align: top;\n",
       "    }\n",
       "\n",
       "    .dataframe thead th {\n",
       "        text-align: right;\n",
       "    }\n",
       "</style>\n",
       "<table border=\"1\" class=\"dataframe\">\n",
       "  <thead>\n",
       "    <tr style=\"text-align: right;\">\n",
       "      <th></th>\n",
       "      <th>Transaction ID</th>\n",
       "      <th>Customer ID</th>\n",
       "      <th>Payment_Mode</th>\n",
       "    </tr>\n",
       "  </thead>\n",
       "  <tbody>\n",
       "    <tr>\n",
       "      <th>0</th>\n",
       "      <td>10000011</td>\n",
       "      <td>29290</td>\n",
       "      <td>Card</td>\n",
       "    </tr>\n",
       "    <tr>\n",
       "      <th>1</th>\n",
       "      <td>10000012</td>\n",
       "      <td>27703</td>\n",
       "      <td>Card</td>\n",
       "    </tr>\n",
       "    <tr>\n",
       "      <th>2</th>\n",
       "      <td>10000013</td>\n",
       "      <td>28712</td>\n",
       "      <td>Cash</td>\n",
       "    </tr>\n",
       "    <tr>\n",
       "      <th>3</th>\n",
       "      <td>10000014</td>\n",
       "      <td>28020</td>\n",
       "      <td>Cash</td>\n",
       "    </tr>\n",
       "    <tr>\n",
       "      <th>4</th>\n",
       "      <td>10000015</td>\n",
       "      <td>27182</td>\n",
       "      <td>Card</td>\n",
       "    </tr>\n",
       "    <tr>\n",
       "      <th>...</th>\n",
       "      <td>...</td>\n",
       "      <td>...</td>\n",
       "      <td>...</td>\n",
       "    </tr>\n",
       "    <tr>\n",
       "      <th>440093</th>\n",
       "      <td>10440104</td>\n",
       "      <td>53286</td>\n",
       "      <td>Cash</td>\n",
       "    </tr>\n",
       "    <tr>\n",
       "      <th>440094</th>\n",
       "      <td>10440105</td>\n",
       "      <td>52265</td>\n",
       "      <td>Cash</td>\n",
       "    </tr>\n",
       "    <tr>\n",
       "      <th>440095</th>\n",
       "      <td>10440106</td>\n",
       "      <td>52175</td>\n",
       "      <td>Card</td>\n",
       "    </tr>\n",
       "    <tr>\n",
       "      <th>440096</th>\n",
       "      <td>10440107</td>\n",
       "      <td>52917</td>\n",
       "      <td>Card</td>\n",
       "    </tr>\n",
       "    <tr>\n",
       "      <th>440097</th>\n",
       "      <td>10440108</td>\n",
       "      <td>51587</td>\n",
       "      <td>Card</td>\n",
       "    </tr>\n",
       "  </tbody>\n",
       "</table>\n",
       "<p>440098 rows × 3 columns</p>\n",
       "</div>"
      ],
      "text/plain": [
       "        Transaction ID  Customer ID Payment_Mode\n",
       "0             10000011        29290         Card\n",
       "1             10000012        27703         Card\n",
       "2             10000013        28712         Cash\n",
       "3             10000014        28020         Cash\n",
       "4             10000015        27182         Card\n",
       "...                ...          ...          ...\n",
       "440093        10440104        53286         Cash\n",
       "440094        10440105        52265         Cash\n",
       "440095        10440106        52175         Card\n",
       "440096        10440107        52917         Card\n",
       "440097        10440108        51587         Card\n",
       "\n",
       "[440098 rows x 3 columns]"
      ]
     },
     "execution_count": 2,
     "metadata": {},
     "output_type": "execute_result"
    }
   ],
   "source": [
    "Transaction = pd.read_csv('Transaction_ID.csv')\n",
    "Transaction"
   ]
  },
  {
   "cell_type": "code",
   "execution_count": 3,
   "id": "595f804a",
   "metadata": {
    "collapsed": true
   },
   "outputs": [
    {
     "data": {
      "text/html": [
       "<div>\n",
       "<style scoped>\n",
       "    .dataframe tbody tr th:only-of-type {\n",
       "        vertical-align: middle;\n",
       "    }\n",
       "\n",
       "    .dataframe tbody tr th {\n",
       "        vertical-align: top;\n",
       "    }\n",
       "\n",
       "    .dataframe thead th {\n",
       "        text-align: right;\n",
       "    }\n",
       "</style>\n",
       "<table border=\"1\" class=\"dataframe\">\n",
       "  <thead>\n",
       "    <tr style=\"text-align: right;\">\n",
       "      <th></th>\n",
       "      <th>Customer ID</th>\n",
       "      <th>Gender</th>\n",
       "      <th>Age</th>\n",
       "      <th>Income (USD/Month)</th>\n",
       "    </tr>\n",
       "  </thead>\n",
       "  <tbody>\n",
       "    <tr>\n",
       "      <th>0</th>\n",
       "      <td>29290</td>\n",
       "      <td>Male</td>\n",
       "      <td>28</td>\n",
       "      <td>10813</td>\n",
       "    </tr>\n",
       "    <tr>\n",
       "      <th>1</th>\n",
       "      <td>27703</td>\n",
       "      <td>Male</td>\n",
       "      <td>27</td>\n",
       "      <td>9237</td>\n",
       "    </tr>\n",
       "    <tr>\n",
       "      <th>2</th>\n",
       "      <td>28712</td>\n",
       "      <td>Male</td>\n",
       "      <td>53</td>\n",
       "      <td>11242</td>\n",
       "    </tr>\n",
       "    <tr>\n",
       "      <th>3</th>\n",
       "      <td>28020</td>\n",
       "      <td>Male</td>\n",
       "      <td>23</td>\n",
       "      <td>23327</td>\n",
       "    </tr>\n",
       "    <tr>\n",
       "      <th>4</th>\n",
       "      <td>27182</td>\n",
       "      <td>Male</td>\n",
       "      <td>33</td>\n",
       "      <td>8536</td>\n",
       "    </tr>\n",
       "    <tr>\n",
       "      <th>...</th>\n",
       "      <td>...</td>\n",
       "      <td>...</td>\n",
       "      <td>...</td>\n",
       "      <td>...</td>\n",
       "    </tr>\n",
       "    <tr>\n",
       "      <th>49166</th>\n",
       "      <td>12490</td>\n",
       "      <td>Male</td>\n",
       "      <td>33</td>\n",
       "      <td>18713</td>\n",
       "    </tr>\n",
       "    <tr>\n",
       "      <th>49167</th>\n",
       "      <td>14971</td>\n",
       "      <td>Male</td>\n",
       "      <td>30</td>\n",
       "      <td>15346</td>\n",
       "    </tr>\n",
       "    <tr>\n",
       "      <th>49168</th>\n",
       "      <td>41414</td>\n",
       "      <td>Male</td>\n",
       "      <td>38</td>\n",
       "      <td>3960</td>\n",
       "    </tr>\n",
       "    <tr>\n",
       "      <th>49169</th>\n",
       "      <td>41677</td>\n",
       "      <td>Male</td>\n",
       "      <td>23</td>\n",
       "      <td>19454</td>\n",
       "    </tr>\n",
       "    <tr>\n",
       "      <th>49170</th>\n",
       "      <td>39761</td>\n",
       "      <td>Female</td>\n",
       "      <td>32</td>\n",
       "      <td>10128</td>\n",
       "    </tr>\n",
       "  </tbody>\n",
       "</table>\n",
       "<p>49171 rows × 4 columns</p>\n",
       "</div>"
      ],
      "text/plain": [
       "       Customer ID  Gender  Age  Income (USD/Month)\n",
       "0            29290    Male   28               10813\n",
       "1            27703    Male   27                9237\n",
       "2            28712    Male   53               11242\n",
       "3            28020    Male   23               23327\n",
       "4            27182    Male   33                8536\n",
       "...            ...     ...  ...                 ...\n",
       "49166        12490    Male   33               18713\n",
       "49167        14971    Male   30               15346\n",
       "49168        41414    Male   38                3960\n",
       "49169        41677    Male   23               19454\n",
       "49170        39761  Female   32               10128\n",
       "\n",
       "[49171 rows x 4 columns]"
      ]
     },
     "execution_count": 3,
     "metadata": {},
     "output_type": "execute_result"
    }
   ],
   "source": [
    "Customer = pd.read_csv('Customer_ID.csv')\n",
    "Customer"
   ]
  },
  {
   "cell_type": "code",
   "execution_count": 4,
   "id": "2a8dd678",
   "metadata": {
    "collapsed": true
   },
   "outputs": [
    {
     "data": {
      "text/html": [
       "<div>\n",
       "<style scoped>\n",
       "    .dataframe tbody tr th:only-of-type {\n",
       "        vertical-align: middle;\n",
       "    }\n",
       "\n",
       "    .dataframe tbody tr th {\n",
       "        vertical-align: top;\n",
       "    }\n",
       "\n",
       "    .dataframe thead th {\n",
       "        text-align: right;\n",
       "    }\n",
       "</style>\n",
       "<table border=\"1\" class=\"dataframe\">\n",
       "  <thead>\n",
       "    <tr style=\"text-align: right;\">\n",
       "      <th></th>\n",
       "      <th>Transaction ID</th>\n",
       "      <th>Date of Travel</th>\n",
       "      <th>Company</th>\n",
       "      <th>City</th>\n",
       "      <th>KM Travelled</th>\n",
       "      <th>Price Charged</th>\n",
       "      <th>Cost of Trip</th>\n",
       "    </tr>\n",
       "  </thead>\n",
       "  <tbody>\n",
       "    <tr>\n",
       "      <th>0</th>\n",
       "      <td>10000011</td>\n",
       "      <td>08/01/2016</td>\n",
       "      <td>Pink Cab</td>\n",
       "      <td>ATLANTA GA</td>\n",
       "      <td>30.45</td>\n",
       "      <td>370.95</td>\n",
       "      <td>313.6350</td>\n",
       "    </tr>\n",
       "    <tr>\n",
       "      <th>1</th>\n",
       "      <td>10000012</td>\n",
       "      <td>06/01/2016</td>\n",
       "      <td>Pink Cab</td>\n",
       "      <td>ATLANTA GA</td>\n",
       "      <td>28.62</td>\n",
       "      <td>358.52</td>\n",
       "      <td>334.8540</td>\n",
       "    </tr>\n",
       "    <tr>\n",
       "      <th>2</th>\n",
       "      <td>10000013</td>\n",
       "      <td>02/01/2016</td>\n",
       "      <td>Pink Cab</td>\n",
       "      <td>ATLANTA GA</td>\n",
       "      <td>9.04</td>\n",
       "      <td>125.20</td>\n",
       "      <td>97.6320</td>\n",
       "    </tr>\n",
       "    <tr>\n",
       "      <th>3</th>\n",
       "      <td>10000014</td>\n",
       "      <td>07/01/2016</td>\n",
       "      <td>Pink Cab</td>\n",
       "      <td>ATLANTA GA</td>\n",
       "      <td>33.17</td>\n",
       "      <td>377.40</td>\n",
       "      <td>351.6020</td>\n",
       "    </tr>\n",
       "    <tr>\n",
       "      <th>4</th>\n",
       "      <td>10000015</td>\n",
       "      <td>03/01/2016</td>\n",
       "      <td>Pink Cab</td>\n",
       "      <td>ATLANTA GA</td>\n",
       "      <td>8.73</td>\n",
       "      <td>114.62</td>\n",
       "      <td>97.7760</td>\n",
       "    </tr>\n",
       "    <tr>\n",
       "      <th>...</th>\n",
       "      <td>...</td>\n",
       "      <td>...</td>\n",
       "      <td>...</td>\n",
       "      <td>...</td>\n",
       "      <td>...</td>\n",
       "      <td>...</td>\n",
       "      <td>...</td>\n",
       "    </tr>\n",
       "    <tr>\n",
       "      <th>359387</th>\n",
       "      <td>10440101</td>\n",
       "      <td>08/01/2018</td>\n",
       "      <td>Yellow Cab</td>\n",
       "      <td>WASHINGTON DC</td>\n",
       "      <td>4.80</td>\n",
       "      <td>69.24</td>\n",
       "      <td>63.3600</td>\n",
       "    </tr>\n",
       "    <tr>\n",
       "      <th>359388</th>\n",
       "      <td>10440104</td>\n",
       "      <td>04/01/2018</td>\n",
       "      <td>Yellow Cab</td>\n",
       "      <td>WASHINGTON DC</td>\n",
       "      <td>8.40</td>\n",
       "      <td>113.75</td>\n",
       "      <td>106.8480</td>\n",
       "    </tr>\n",
       "    <tr>\n",
       "      <th>359389</th>\n",
       "      <td>10440105</td>\n",
       "      <td>05/01/2018</td>\n",
       "      <td>Yellow Cab</td>\n",
       "      <td>WASHINGTON DC</td>\n",
       "      <td>27.75</td>\n",
       "      <td>437.07</td>\n",
       "      <td>349.6500</td>\n",
       "    </tr>\n",
       "    <tr>\n",
       "      <th>359390</th>\n",
       "      <td>10440106</td>\n",
       "      <td>05/01/2018</td>\n",
       "      <td>Yellow Cab</td>\n",
       "      <td>WASHINGTON DC</td>\n",
       "      <td>8.80</td>\n",
       "      <td>146.19</td>\n",
       "      <td>114.0480</td>\n",
       "    </tr>\n",
       "    <tr>\n",
       "      <th>359391</th>\n",
       "      <td>10440107</td>\n",
       "      <td>02/01/2018</td>\n",
       "      <td>Yellow Cab</td>\n",
       "      <td>WASHINGTON DC</td>\n",
       "      <td>12.76</td>\n",
       "      <td>191.58</td>\n",
       "      <td>177.6192</td>\n",
       "    </tr>\n",
       "  </tbody>\n",
       "</table>\n",
       "<p>359392 rows × 7 columns</p>\n",
       "</div>"
      ],
      "text/plain": [
       "        Transaction ID Date of Travel     Company           City  \\\n",
       "0             10000011     08/01/2016    Pink Cab     ATLANTA GA   \n",
       "1             10000012     06/01/2016    Pink Cab     ATLANTA GA   \n",
       "2             10000013     02/01/2016    Pink Cab     ATLANTA GA   \n",
       "3             10000014     07/01/2016    Pink Cab     ATLANTA GA   \n",
       "4             10000015     03/01/2016    Pink Cab     ATLANTA GA   \n",
       "...                ...            ...         ...            ...   \n",
       "359387        10440101     08/01/2018  Yellow Cab  WASHINGTON DC   \n",
       "359388        10440104     04/01/2018  Yellow Cab  WASHINGTON DC   \n",
       "359389        10440105     05/01/2018  Yellow Cab  WASHINGTON DC   \n",
       "359390        10440106     05/01/2018  Yellow Cab  WASHINGTON DC   \n",
       "359391        10440107     02/01/2018  Yellow Cab  WASHINGTON DC   \n",
       "\n",
       "        KM Travelled  Price Charged  Cost of Trip  \n",
       "0              30.45         370.95      313.6350  \n",
       "1              28.62         358.52      334.8540  \n",
       "2               9.04         125.20       97.6320  \n",
       "3              33.17         377.40      351.6020  \n",
       "4               8.73         114.62       97.7760  \n",
       "...              ...            ...           ...  \n",
       "359387          4.80          69.24       63.3600  \n",
       "359388          8.40         113.75      106.8480  \n",
       "359389         27.75         437.07      349.6500  \n",
       "359390          8.80         146.19      114.0480  \n",
       "359391         12.76         191.58      177.6192  \n",
       "\n",
       "[359392 rows x 7 columns]"
      ]
     },
     "execution_count": 4,
     "metadata": {},
     "output_type": "execute_result"
    }
   ],
   "source": [
    "Cab = pd.read_csv('Cab_Data.csv')\n",
    "Cab"
   ]
  },
  {
   "cell_type": "code",
   "execution_count": 5,
   "id": "fd34f058",
   "metadata": {
    "collapsed": true
   },
   "outputs": [
    {
     "data": {
      "text/html": [
       "<div>\n",
       "<style scoped>\n",
       "    .dataframe tbody tr th:only-of-type {\n",
       "        vertical-align: middle;\n",
       "    }\n",
       "\n",
       "    .dataframe tbody tr th {\n",
       "        vertical-align: top;\n",
       "    }\n",
       "\n",
       "    .dataframe thead th {\n",
       "        text-align: right;\n",
       "    }\n",
       "</style>\n",
       "<table border=\"1\" class=\"dataframe\">\n",
       "  <thead>\n",
       "    <tr style=\"text-align: right;\">\n",
       "      <th></th>\n",
       "      <th>City</th>\n",
       "      <th>Population</th>\n",
       "      <th>Users</th>\n",
       "    </tr>\n",
       "  </thead>\n",
       "  <tbody>\n",
       "    <tr>\n",
       "      <th>0</th>\n",
       "      <td>NEW YORK NY</td>\n",
       "      <td>8,405,837</td>\n",
       "      <td>302,149</td>\n",
       "    </tr>\n",
       "    <tr>\n",
       "      <th>1</th>\n",
       "      <td>CHICAGO IL</td>\n",
       "      <td>1,955,130</td>\n",
       "      <td>164,468</td>\n",
       "    </tr>\n",
       "    <tr>\n",
       "      <th>2</th>\n",
       "      <td>LOS ANGELES CA</td>\n",
       "      <td>1,595,037</td>\n",
       "      <td>144,132</td>\n",
       "    </tr>\n",
       "    <tr>\n",
       "      <th>3</th>\n",
       "      <td>MIAMI FL</td>\n",
       "      <td>1,339,155</td>\n",
       "      <td>17,675</td>\n",
       "    </tr>\n",
       "    <tr>\n",
       "      <th>4</th>\n",
       "      <td>SILICON VALLEY</td>\n",
       "      <td>1,177,609</td>\n",
       "      <td>27,247</td>\n",
       "    </tr>\n",
       "    <tr>\n",
       "      <th>5</th>\n",
       "      <td>ORANGE COUNTY</td>\n",
       "      <td>1,030,185</td>\n",
       "      <td>12,994</td>\n",
       "    </tr>\n",
       "    <tr>\n",
       "      <th>6</th>\n",
       "      <td>SAN DIEGO CA</td>\n",
       "      <td>959,307</td>\n",
       "      <td>69,995</td>\n",
       "    </tr>\n",
       "    <tr>\n",
       "      <th>7</th>\n",
       "      <td>PHOENIX AZ</td>\n",
       "      <td>943,999</td>\n",
       "      <td>6,133</td>\n",
       "    </tr>\n",
       "    <tr>\n",
       "      <th>8</th>\n",
       "      <td>DALLAS TX</td>\n",
       "      <td>942,908</td>\n",
       "      <td>22,157</td>\n",
       "    </tr>\n",
       "    <tr>\n",
       "      <th>9</th>\n",
       "      <td>ATLANTA GA</td>\n",
       "      <td>814,885</td>\n",
       "      <td>24,701</td>\n",
       "    </tr>\n",
       "    <tr>\n",
       "      <th>10</th>\n",
       "      <td>DENVER CO</td>\n",
       "      <td>754,233</td>\n",
       "      <td>12,421</td>\n",
       "    </tr>\n",
       "    <tr>\n",
       "      <th>11</th>\n",
       "      <td>AUSTIN TX</td>\n",
       "      <td>698,371</td>\n",
       "      <td>14,978</td>\n",
       "    </tr>\n",
       "    <tr>\n",
       "      <th>12</th>\n",
       "      <td>SEATTLE WA</td>\n",
       "      <td>671,238</td>\n",
       "      <td>25,063</td>\n",
       "    </tr>\n",
       "    <tr>\n",
       "      <th>13</th>\n",
       "      <td>TUCSON AZ</td>\n",
       "      <td>631,442</td>\n",
       "      <td>5,712</td>\n",
       "    </tr>\n",
       "    <tr>\n",
       "      <th>14</th>\n",
       "      <td>SAN FRANCISCO CA</td>\n",
       "      <td>629,591</td>\n",
       "      <td>213,609</td>\n",
       "    </tr>\n",
       "    <tr>\n",
       "      <th>15</th>\n",
       "      <td>SACRAMENTO CA</td>\n",
       "      <td>545,776</td>\n",
       "      <td>7,044</td>\n",
       "    </tr>\n",
       "    <tr>\n",
       "      <th>16</th>\n",
       "      <td>PITTSBURGH PA</td>\n",
       "      <td>542,085</td>\n",
       "      <td>3,643</td>\n",
       "    </tr>\n",
       "    <tr>\n",
       "      <th>17</th>\n",
       "      <td>WASHINGTON DC</td>\n",
       "      <td>418,859</td>\n",
       "      <td>127,001</td>\n",
       "    </tr>\n",
       "    <tr>\n",
       "      <th>18</th>\n",
       "      <td>NASHVILLE TN</td>\n",
       "      <td>327,225</td>\n",
       "      <td>9,270</td>\n",
       "    </tr>\n",
       "    <tr>\n",
       "      <th>19</th>\n",
       "      <td>BOSTON MA</td>\n",
       "      <td>248,968</td>\n",
       "      <td>80,021</td>\n",
       "    </tr>\n",
       "  </tbody>\n",
       "</table>\n",
       "</div>"
      ],
      "text/plain": [
       "                City   Population      Users\n",
       "0        NEW YORK NY   8,405,837    302,149 \n",
       "1         CHICAGO IL   1,955,130    164,468 \n",
       "2     LOS ANGELES CA   1,595,037    144,132 \n",
       "3           MIAMI FL   1,339,155     17,675 \n",
       "4     SILICON VALLEY   1,177,609     27,247 \n",
       "5      ORANGE COUNTY   1,030,185     12,994 \n",
       "6       SAN DIEGO CA     959,307     69,995 \n",
       "7         PHOENIX AZ     943,999      6,133 \n",
       "8          DALLAS TX     942,908     22,157 \n",
       "9         ATLANTA GA     814,885     24,701 \n",
       "10         DENVER CO     754,233     12,421 \n",
       "11         AUSTIN TX     698,371     14,978 \n",
       "12        SEATTLE WA     671,238     25,063 \n",
       "13         TUCSON AZ     631,442      5,712 \n",
       "14  SAN FRANCISCO CA     629,591    213,609 \n",
       "15     SACRAMENTO CA     545,776      7,044 \n",
       "16     PITTSBURGH PA     542,085      3,643 \n",
       "17     WASHINGTON DC     418,859    127,001 \n",
       "18      NASHVILLE TN     327,225      9,270 \n",
       "19         BOSTON MA     248,968     80,021 "
      ]
     },
     "execution_count": 5,
     "metadata": {},
     "output_type": "execute_result"
    }
   ],
   "source": [
    "City = pd.read_csv('City.csv')\n",
    "City"
   ]
  },
  {
   "cell_type": "code",
   "execution_count": 6,
   "id": "821f87f5",
   "metadata": {
    "collapsed": true
   },
   "outputs": [
    {
     "data": {
      "text/html": [
       "<div>\n",
       "<style scoped>\n",
       "    .dataframe tbody tr th:only-of-type {\n",
       "        vertical-align: middle;\n",
       "    }\n",
       "\n",
       "    .dataframe tbody tr th {\n",
       "        vertical-align: top;\n",
       "    }\n",
       "\n",
       "    .dataframe thead th {\n",
       "        text-align: right;\n",
       "    }\n",
       "</style>\n",
       "<table border=\"1\" class=\"dataframe\">\n",
       "  <thead>\n",
       "    <tr style=\"text-align: right;\">\n",
       "      <th></th>\n",
       "      <th>Transaction ID</th>\n",
       "      <th>Customer ID</th>\n",
       "      <th>Payment_Mode</th>\n",
       "      <th>Gender</th>\n",
       "      <th>Age</th>\n",
       "      <th>Income (USD/Month)</th>\n",
       "    </tr>\n",
       "  </thead>\n",
       "  <tbody>\n",
       "    <tr>\n",
       "      <th>0</th>\n",
       "      <td>10000011</td>\n",
       "      <td>29290</td>\n",
       "      <td>Card</td>\n",
       "      <td>Male</td>\n",
       "      <td>28</td>\n",
       "      <td>10813</td>\n",
       "    </tr>\n",
       "    <tr>\n",
       "      <th>1</th>\n",
       "      <td>10351127</td>\n",
       "      <td>29290</td>\n",
       "      <td>Cash</td>\n",
       "      <td>Male</td>\n",
       "      <td>28</td>\n",
       "      <td>10813</td>\n",
       "    </tr>\n",
       "    <tr>\n",
       "      <th>2</th>\n",
       "      <td>10412921</td>\n",
       "      <td>29290</td>\n",
       "      <td>Card</td>\n",
       "      <td>Male</td>\n",
       "      <td>28</td>\n",
       "      <td>10813</td>\n",
       "    </tr>\n",
       "    <tr>\n",
       "      <th>3</th>\n",
       "      <td>10000012</td>\n",
       "      <td>27703</td>\n",
       "      <td>Card</td>\n",
       "      <td>Male</td>\n",
       "      <td>27</td>\n",
       "      <td>9237</td>\n",
       "    </tr>\n",
       "    <tr>\n",
       "      <th>4</th>\n",
       "      <td>10320494</td>\n",
       "      <td>27703</td>\n",
       "      <td>Card</td>\n",
       "      <td>Male</td>\n",
       "      <td>27</td>\n",
       "      <td>9237</td>\n",
       "    </tr>\n",
       "    <tr>\n",
       "      <th>...</th>\n",
       "      <td>...</td>\n",
       "      <td>...</td>\n",
       "      <td>...</td>\n",
       "      <td>...</td>\n",
       "      <td>...</td>\n",
       "      <td>...</td>\n",
       "    </tr>\n",
       "    <tr>\n",
       "      <th>440093</th>\n",
       "      <td>10439799</td>\n",
       "      <td>12490</td>\n",
       "      <td>Cash</td>\n",
       "      <td>Male</td>\n",
       "      <td>33</td>\n",
       "      <td>18713</td>\n",
       "    </tr>\n",
       "    <tr>\n",
       "      <th>440094</th>\n",
       "      <td>10439820</td>\n",
       "      <td>14971</td>\n",
       "      <td>Card</td>\n",
       "      <td>Male</td>\n",
       "      <td>30</td>\n",
       "      <td>15346</td>\n",
       "    </tr>\n",
       "    <tr>\n",
       "      <th>440095</th>\n",
       "      <td>10439838</td>\n",
       "      <td>41414</td>\n",
       "      <td>Card</td>\n",
       "      <td>Male</td>\n",
       "      <td>38</td>\n",
       "      <td>3960</td>\n",
       "    </tr>\n",
       "    <tr>\n",
       "      <th>440096</th>\n",
       "      <td>10439840</td>\n",
       "      <td>41677</td>\n",
       "      <td>Cash</td>\n",
       "      <td>Male</td>\n",
       "      <td>23</td>\n",
       "      <td>19454</td>\n",
       "    </tr>\n",
       "    <tr>\n",
       "      <th>440097</th>\n",
       "      <td>10439846</td>\n",
       "      <td>39761</td>\n",
       "      <td>Card</td>\n",
       "      <td>Female</td>\n",
       "      <td>32</td>\n",
       "      <td>10128</td>\n",
       "    </tr>\n",
       "  </tbody>\n",
       "</table>\n",
       "<p>440098 rows × 6 columns</p>\n",
       "</div>"
      ],
      "text/plain": [
       "        Transaction ID  Customer ID Payment_Mode  Gender  Age  \\\n",
       "0             10000011        29290         Card    Male   28   \n",
       "1             10351127        29290         Cash    Male   28   \n",
       "2             10412921        29290         Card    Male   28   \n",
       "3             10000012        27703         Card    Male   27   \n",
       "4             10320494        27703         Card    Male   27   \n",
       "...                ...          ...          ...     ...  ...   \n",
       "440093        10439799        12490         Cash    Male   33   \n",
       "440094        10439820        14971         Card    Male   30   \n",
       "440095        10439838        41414         Card    Male   38   \n",
       "440096        10439840        41677         Cash    Male   23   \n",
       "440097        10439846        39761         Card  Female   32   \n",
       "\n",
       "        Income (USD/Month)  \n",
       "0                    10813  \n",
       "1                    10813  \n",
       "2                    10813  \n",
       "3                     9237  \n",
       "4                     9237  \n",
       "...                    ...  \n",
       "440093               18713  \n",
       "440094               15346  \n",
       "440095                3960  \n",
       "440096               19454  \n",
       "440097               10128  \n",
       "\n",
       "[440098 rows x 6 columns]"
      ]
     },
     "execution_count": 6,
     "metadata": {},
     "output_type": "execute_result"
    }
   ],
   "source": [
    "Transaction_Customer = pd.merge(Transaction, Customer, on='Customer ID')\n",
    "Transaction_Customer"
   ]
  },
  {
   "cell_type": "code",
   "execution_count": 7,
   "id": "9f7fc8b4",
   "metadata": {
    "collapsed": true
   },
   "outputs": [
    {
     "data": {
      "text/html": [
       "<div>\n",
       "<style scoped>\n",
       "    .dataframe tbody tr th:only-of-type {\n",
       "        vertical-align: middle;\n",
       "    }\n",
       "\n",
       "    .dataframe tbody tr th {\n",
       "        vertical-align: top;\n",
       "    }\n",
       "\n",
       "    .dataframe thead th {\n",
       "        text-align: right;\n",
       "    }\n",
       "</style>\n",
       "<table border=\"1\" class=\"dataframe\">\n",
       "  <thead>\n",
       "    <tr style=\"text-align: right;\">\n",
       "      <th></th>\n",
       "      <th>Transaction ID</th>\n",
       "      <th>Date of Travel</th>\n",
       "      <th>Company</th>\n",
       "      <th>City</th>\n",
       "      <th>KM Travelled</th>\n",
       "      <th>Price Charged</th>\n",
       "      <th>Cost of Trip</th>\n",
       "      <th>Population</th>\n",
       "      <th>Users</th>\n",
       "    </tr>\n",
       "  </thead>\n",
       "  <tbody>\n",
       "    <tr>\n",
       "      <th>0</th>\n",
       "      <td>10000011</td>\n",
       "      <td>08/01/2016</td>\n",
       "      <td>Pink Cab</td>\n",
       "      <td>ATLANTA GA</td>\n",
       "      <td>30.45</td>\n",
       "      <td>370.95</td>\n",
       "      <td>313.6350</td>\n",
       "      <td>814,885</td>\n",
       "      <td>24,701</td>\n",
       "    </tr>\n",
       "    <tr>\n",
       "      <th>1</th>\n",
       "      <td>10000012</td>\n",
       "      <td>06/01/2016</td>\n",
       "      <td>Pink Cab</td>\n",
       "      <td>ATLANTA GA</td>\n",
       "      <td>28.62</td>\n",
       "      <td>358.52</td>\n",
       "      <td>334.8540</td>\n",
       "      <td>814,885</td>\n",
       "      <td>24,701</td>\n",
       "    </tr>\n",
       "    <tr>\n",
       "      <th>2</th>\n",
       "      <td>10000013</td>\n",
       "      <td>02/01/2016</td>\n",
       "      <td>Pink Cab</td>\n",
       "      <td>ATLANTA GA</td>\n",
       "      <td>9.04</td>\n",
       "      <td>125.20</td>\n",
       "      <td>97.6320</td>\n",
       "      <td>814,885</td>\n",
       "      <td>24,701</td>\n",
       "    </tr>\n",
       "    <tr>\n",
       "      <th>3</th>\n",
       "      <td>10000014</td>\n",
       "      <td>07/01/2016</td>\n",
       "      <td>Pink Cab</td>\n",
       "      <td>ATLANTA GA</td>\n",
       "      <td>33.17</td>\n",
       "      <td>377.40</td>\n",
       "      <td>351.6020</td>\n",
       "      <td>814,885</td>\n",
       "      <td>24,701</td>\n",
       "    </tr>\n",
       "    <tr>\n",
       "      <th>4</th>\n",
       "      <td>10000015</td>\n",
       "      <td>03/01/2016</td>\n",
       "      <td>Pink Cab</td>\n",
       "      <td>ATLANTA GA</td>\n",
       "      <td>8.73</td>\n",
       "      <td>114.62</td>\n",
       "      <td>97.7760</td>\n",
       "      <td>814,885</td>\n",
       "      <td>24,701</td>\n",
       "    </tr>\n",
       "    <tr>\n",
       "      <th>...</th>\n",
       "      <td>...</td>\n",
       "      <td>...</td>\n",
       "      <td>...</td>\n",
       "      <td>...</td>\n",
       "      <td>...</td>\n",
       "      <td>...</td>\n",
       "      <td>...</td>\n",
       "      <td>...</td>\n",
       "      <td>...</td>\n",
       "    </tr>\n",
       "    <tr>\n",
       "      <th>359387</th>\n",
       "      <td>10440101</td>\n",
       "      <td>08/01/2018</td>\n",
       "      <td>Yellow Cab</td>\n",
       "      <td>WASHINGTON DC</td>\n",
       "      <td>4.80</td>\n",
       "      <td>69.24</td>\n",
       "      <td>63.3600</td>\n",
       "      <td>418,859</td>\n",
       "      <td>127,001</td>\n",
       "    </tr>\n",
       "    <tr>\n",
       "      <th>359388</th>\n",
       "      <td>10440104</td>\n",
       "      <td>04/01/2018</td>\n",
       "      <td>Yellow Cab</td>\n",
       "      <td>WASHINGTON DC</td>\n",
       "      <td>8.40</td>\n",
       "      <td>113.75</td>\n",
       "      <td>106.8480</td>\n",
       "      <td>418,859</td>\n",
       "      <td>127,001</td>\n",
       "    </tr>\n",
       "    <tr>\n",
       "      <th>359389</th>\n",
       "      <td>10440105</td>\n",
       "      <td>05/01/2018</td>\n",
       "      <td>Yellow Cab</td>\n",
       "      <td>WASHINGTON DC</td>\n",
       "      <td>27.75</td>\n",
       "      <td>437.07</td>\n",
       "      <td>349.6500</td>\n",
       "      <td>418,859</td>\n",
       "      <td>127,001</td>\n",
       "    </tr>\n",
       "    <tr>\n",
       "      <th>359390</th>\n",
       "      <td>10440106</td>\n",
       "      <td>05/01/2018</td>\n",
       "      <td>Yellow Cab</td>\n",
       "      <td>WASHINGTON DC</td>\n",
       "      <td>8.80</td>\n",
       "      <td>146.19</td>\n",
       "      <td>114.0480</td>\n",
       "      <td>418,859</td>\n",
       "      <td>127,001</td>\n",
       "    </tr>\n",
       "    <tr>\n",
       "      <th>359391</th>\n",
       "      <td>10440107</td>\n",
       "      <td>02/01/2018</td>\n",
       "      <td>Yellow Cab</td>\n",
       "      <td>WASHINGTON DC</td>\n",
       "      <td>12.76</td>\n",
       "      <td>191.58</td>\n",
       "      <td>177.6192</td>\n",
       "      <td>418,859</td>\n",
       "      <td>127,001</td>\n",
       "    </tr>\n",
       "  </tbody>\n",
       "</table>\n",
       "<p>359392 rows × 9 columns</p>\n",
       "</div>"
      ],
      "text/plain": [
       "        Transaction ID Date of Travel     Company           City  \\\n",
       "0             10000011     08/01/2016    Pink Cab     ATLANTA GA   \n",
       "1             10000012     06/01/2016    Pink Cab     ATLANTA GA   \n",
       "2             10000013     02/01/2016    Pink Cab     ATLANTA GA   \n",
       "3             10000014     07/01/2016    Pink Cab     ATLANTA GA   \n",
       "4             10000015     03/01/2016    Pink Cab     ATLANTA GA   \n",
       "...                ...            ...         ...            ...   \n",
       "359387        10440101     08/01/2018  Yellow Cab  WASHINGTON DC   \n",
       "359388        10440104     04/01/2018  Yellow Cab  WASHINGTON DC   \n",
       "359389        10440105     05/01/2018  Yellow Cab  WASHINGTON DC   \n",
       "359390        10440106     05/01/2018  Yellow Cab  WASHINGTON DC   \n",
       "359391        10440107     02/01/2018  Yellow Cab  WASHINGTON DC   \n",
       "\n",
       "        KM Travelled  Price Charged  Cost of Trip Population      Users  \n",
       "0              30.45         370.95      313.6350   814,885     24,701   \n",
       "1              28.62         358.52      334.8540   814,885     24,701   \n",
       "2               9.04         125.20       97.6320   814,885     24,701   \n",
       "3              33.17         377.40      351.6020   814,885     24,701   \n",
       "4               8.73         114.62       97.7760   814,885     24,701   \n",
       "...              ...            ...           ...        ...        ...  \n",
       "359387          4.80          69.24       63.3600   418,859    127,001   \n",
       "359388          8.40         113.75      106.8480   418,859    127,001   \n",
       "359389         27.75         437.07      349.6500   418,859    127,001   \n",
       "359390          8.80         146.19      114.0480   418,859    127,001   \n",
       "359391         12.76         191.58      177.6192   418,859    127,001   \n",
       "\n",
       "[359392 rows x 9 columns]"
      ]
     },
     "execution_count": 7,
     "metadata": {},
     "output_type": "execute_result"
    }
   ],
   "source": [
    "Cab_City = pd.merge(Cab, City, on='City')\n",
    "Cab_City"
   ]
  },
  {
   "cell_type": "code",
   "execution_count": 8,
   "id": "021d1d50",
   "metadata": {
    "collapsed": true
   },
   "outputs": [
    {
     "data": {
      "text/html": [
       "<div>\n",
       "<style scoped>\n",
       "    .dataframe tbody tr th:only-of-type {\n",
       "        vertical-align: middle;\n",
       "    }\n",
       "\n",
       "    .dataframe tbody tr th {\n",
       "        vertical-align: top;\n",
       "    }\n",
       "\n",
       "    .dataframe thead th {\n",
       "        text-align: right;\n",
       "    }\n",
       "</style>\n",
       "<table border=\"1\" class=\"dataframe\">\n",
       "  <thead>\n",
       "    <tr style=\"text-align: right;\">\n",
       "      <th></th>\n",
       "      <th>Transaction ID_x</th>\n",
       "      <th>Customer ID</th>\n",
       "      <th>Payment_Mode</th>\n",
       "      <th>Gender</th>\n",
       "      <th>Age</th>\n",
       "      <th>Income (USD/Month)</th>\n",
       "      <th>Transaction ID_y</th>\n",
       "      <th>Date of Travel</th>\n",
       "      <th>Company</th>\n",
       "      <th>City</th>\n",
       "      <th>KM Travelled</th>\n",
       "      <th>Price Charged</th>\n",
       "      <th>Cost of Trip</th>\n",
       "      <th>Population</th>\n",
       "      <th>Users</th>\n",
       "    </tr>\n",
       "  </thead>\n",
       "  <tbody>\n",
       "    <tr>\n",
       "      <th>0</th>\n",
       "      <td>10000011</td>\n",
       "      <td>29290</td>\n",
       "      <td>Card</td>\n",
       "      <td>Male</td>\n",
       "      <td>28</td>\n",
       "      <td>10813</td>\n",
       "      <td>10000011</td>\n",
       "      <td>08/01/2016</td>\n",
       "      <td>Pink Cab</td>\n",
       "      <td>ATLANTA GA</td>\n",
       "      <td>30.45</td>\n",
       "      <td>370.95</td>\n",
       "      <td>313.6350</td>\n",
       "      <td>814,885</td>\n",
       "      <td>24,701</td>\n",
       "    </tr>\n",
       "    <tr>\n",
       "      <th>1</th>\n",
       "      <td>10351127</td>\n",
       "      <td>29290</td>\n",
       "      <td>Cash</td>\n",
       "      <td>Male</td>\n",
       "      <td>28</td>\n",
       "      <td>10813</td>\n",
       "      <td>10000012</td>\n",
       "      <td>06/01/2016</td>\n",
       "      <td>Pink Cab</td>\n",
       "      <td>ATLANTA GA</td>\n",
       "      <td>28.62</td>\n",
       "      <td>358.52</td>\n",
       "      <td>334.8540</td>\n",
       "      <td>814,885</td>\n",
       "      <td>24,701</td>\n",
       "    </tr>\n",
       "    <tr>\n",
       "      <th>2</th>\n",
       "      <td>10412921</td>\n",
       "      <td>29290</td>\n",
       "      <td>Card</td>\n",
       "      <td>Male</td>\n",
       "      <td>28</td>\n",
       "      <td>10813</td>\n",
       "      <td>10000013</td>\n",
       "      <td>02/01/2016</td>\n",
       "      <td>Pink Cab</td>\n",
       "      <td>ATLANTA GA</td>\n",
       "      <td>9.04</td>\n",
       "      <td>125.20</td>\n",
       "      <td>97.6320</td>\n",
       "      <td>814,885</td>\n",
       "      <td>24,701</td>\n",
       "    </tr>\n",
       "    <tr>\n",
       "      <th>3</th>\n",
       "      <td>10000012</td>\n",
       "      <td>27703</td>\n",
       "      <td>Card</td>\n",
       "      <td>Male</td>\n",
       "      <td>27</td>\n",
       "      <td>9237</td>\n",
       "      <td>10000014</td>\n",
       "      <td>07/01/2016</td>\n",
       "      <td>Pink Cab</td>\n",
       "      <td>ATLANTA GA</td>\n",
       "      <td>33.17</td>\n",
       "      <td>377.40</td>\n",
       "      <td>351.6020</td>\n",
       "      <td>814,885</td>\n",
       "      <td>24,701</td>\n",
       "    </tr>\n",
       "    <tr>\n",
       "      <th>4</th>\n",
       "      <td>10320494</td>\n",
       "      <td>27703</td>\n",
       "      <td>Card</td>\n",
       "      <td>Male</td>\n",
       "      <td>27</td>\n",
       "      <td>9237</td>\n",
       "      <td>10000015</td>\n",
       "      <td>03/01/2016</td>\n",
       "      <td>Pink Cab</td>\n",
       "      <td>ATLANTA GA</td>\n",
       "      <td>8.73</td>\n",
       "      <td>114.62</td>\n",
       "      <td>97.7760</td>\n",
       "      <td>814,885</td>\n",
       "      <td>24,701</td>\n",
       "    </tr>\n",
       "    <tr>\n",
       "      <th>...</th>\n",
       "      <td>...</td>\n",
       "      <td>...</td>\n",
       "      <td>...</td>\n",
       "      <td>...</td>\n",
       "      <td>...</td>\n",
       "      <td>...</td>\n",
       "      <td>...</td>\n",
       "      <td>...</td>\n",
       "      <td>...</td>\n",
       "      <td>...</td>\n",
       "      <td>...</td>\n",
       "      <td>...</td>\n",
       "      <td>...</td>\n",
       "      <td>...</td>\n",
       "      <td>...</td>\n",
       "    </tr>\n",
       "    <tr>\n",
       "      <th>359387</th>\n",
       "      <td>10052232</td>\n",
       "      <td>29086</td>\n",
       "      <td>Cash</td>\n",
       "      <td>Female</td>\n",
       "      <td>37</td>\n",
       "      <td>3484</td>\n",
       "      <td>10440101</td>\n",
       "      <td>08/01/2018</td>\n",
       "      <td>Yellow Cab</td>\n",
       "      <td>WASHINGTON DC</td>\n",
       "      <td>4.80</td>\n",
       "      <td>69.24</td>\n",
       "      <td>63.3600</td>\n",
       "      <td>418,859</td>\n",
       "      <td>127,001</td>\n",
       "    </tr>\n",
       "    <tr>\n",
       "      <th>359388</th>\n",
       "      <td>10411642</td>\n",
       "      <td>29086</td>\n",
       "      <td>Card</td>\n",
       "      <td>Female</td>\n",
       "      <td>37</td>\n",
       "      <td>3484</td>\n",
       "      <td>10440104</td>\n",
       "      <td>04/01/2018</td>\n",
       "      <td>Yellow Cab</td>\n",
       "      <td>WASHINGTON DC</td>\n",
       "      <td>8.40</td>\n",
       "      <td>113.75</td>\n",
       "      <td>106.8480</td>\n",
       "      <td>418,859</td>\n",
       "      <td>127,001</td>\n",
       "    </tr>\n",
       "    <tr>\n",
       "      <th>359389</th>\n",
       "      <td>10052234</td>\n",
       "      <td>27715</td>\n",
       "      <td>Cash</td>\n",
       "      <td>Male</td>\n",
       "      <td>23</td>\n",
       "      <td>19368</td>\n",
       "      <td>10440105</td>\n",
       "      <td>05/01/2018</td>\n",
       "      <td>Yellow Cab</td>\n",
       "      <td>WASHINGTON DC</td>\n",
       "      <td>27.75</td>\n",
       "      <td>437.07</td>\n",
       "      <td>349.6500</td>\n",
       "      <td>418,859</td>\n",
       "      <td>127,001</td>\n",
       "    </tr>\n",
       "    <tr>\n",
       "      <th>359390</th>\n",
       "      <td>10179729</td>\n",
       "      <td>27715</td>\n",
       "      <td>Card</td>\n",
       "      <td>Male</td>\n",
       "      <td>23</td>\n",
       "      <td>19368</td>\n",
       "      <td>10440106</td>\n",
       "      <td>05/01/2018</td>\n",
       "      <td>Yellow Cab</td>\n",
       "      <td>WASHINGTON DC</td>\n",
       "      <td>8.80</td>\n",
       "      <td>146.19</td>\n",
       "      <td>114.0480</td>\n",
       "      <td>418,859</td>\n",
       "      <td>127,001</td>\n",
       "    </tr>\n",
       "    <tr>\n",
       "      <th>359391</th>\n",
       "      <td>10301965</td>\n",
       "      <td>27715</td>\n",
       "      <td>Card</td>\n",
       "      <td>Male</td>\n",
       "      <td>23</td>\n",
       "      <td>19368</td>\n",
       "      <td>10440107</td>\n",
       "      <td>02/01/2018</td>\n",
       "      <td>Yellow Cab</td>\n",
       "      <td>WASHINGTON DC</td>\n",
       "      <td>12.76</td>\n",
       "      <td>191.58</td>\n",
       "      <td>177.6192</td>\n",
       "      <td>418,859</td>\n",
       "      <td>127,001</td>\n",
       "    </tr>\n",
       "  </tbody>\n",
       "</table>\n",
       "<p>359392 rows × 15 columns</p>\n",
       "</div>"
      ],
      "text/plain": [
       "        Transaction ID_x  Customer ID Payment_Mode  Gender  Age  \\\n",
       "0               10000011        29290         Card    Male   28   \n",
       "1               10351127        29290         Cash    Male   28   \n",
       "2               10412921        29290         Card    Male   28   \n",
       "3               10000012        27703         Card    Male   27   \n",
       "4               10320494        27703         Card    Male   27   \n",
       "...                  ...          ...          ...     ...  ...   \n",
       "359387          10052232        29086         Cash  Female   37   \n",
       "359388          10411642        29086         Card  Female   37   \n",
       "359389          10052234        27715         Cash    Male   23   \n",
       "359390          10179729        27715         Card    Male   23   \n",
       "359391          10301965        27715         Card    Male   23   \n",
       "\n",
       "        Income (USD/Month)  Transaction ID_y Date of Travel     Company  \\\n",
       "0                    10813          10000011     08/01/2016    Pink Cab   \n",
       "1                    10813          10000012     06/01/2016    Pink Cab   \n",
       "2                    10813          10000013     02/01/2016    Pink Cab   \n",
       "3                     9237          10000014     07/01/2016    Pink Cab   \n",
       "4                     9237          10000015     03/01/2016    Pink Cab   \n",
       "...                    ...               ...            ...         ...   \n",
       "359387                3484          10440101     08/01/2018  Yellow Cab   \n",
       "359388                3484          10440104     04/01/2018  Yellow Cab   \n",
       "359389               19368          10440105     05/01/2018  Yellow Cab   \n",
       "359390               19368          10440106     05/01/2018  Yellow Cab   \n",
       "359391               19368          10440107     02/01/2018  Yellow Cab   \n",
       "\n",
       "                 City  KM Travelled  Price Charged  Cost of Trip Population  \\\n",
       "0          ATLANTA GA         30.45         370.95      313.6350   814,885    \n",
       "1          ATLANTA GA         28.62         358.52      334.8540   814,885    \n",
       "2          ATLANTA GA          9.04         125.20       97.6320   814,885    \n",
       "3          ATLANTA GA         33.17         377.40      351.6020   814,885    \n",
       "4          ATLANTA GA          8.73         114.62       97.7760   814,885    \n",
       "...               ...           ...            ...           ...        ...   \n",
       "359387  WASHINGTON DC          4.80          69.24       63.3600   418,859    \n",
       "359388  WASHINGTON DC          8.40         113.75      106.8480   418,859    \n",
       "359389  WASHINGTON DC         27.75         437.07      349.6500   418,859    \n",
       "359390  WASHINGTON DC          8.80         146.19      114.0480   418,859    \n",
       "359391  WASHINGTON DC         12.76         191.58      177.6192   418,859    \n",
       "\n",
       "            Users  \n",
       "0         24,701   \n",
       "1         24,701   \n",
       "2         24,701   \n",
       "3         24,701   \n",
       "4         24,701   \n",
       "...           ...  \n",
       "359387   127,001   \n",
       "359388   127,001   \n",
       "359389   127,001   \n",
       "359390   127,001   \n",
       "359391   127,001   \n",
       "\n",
       "[359392 rows x 15 columns]"
      ]
     },
     "execution_count": 8,
     "metadata": {},
     "output_type": "execute_result"
    }
   ],
   "source": [
    "Merged_Data = pd.merge(Transaction_Customer, Cab_City, left_index=True, right_index=True)\n",
    "Merged_Data"
   ]
  },
  {
   "cell_type": "markdown",
   "id": "c0d14b5d",
   "metadata": {},
   "source": [
    "#### Splitting the categorical data from the numerical data "
   ]
  },
  {
   "cell_type": "code",
   "execution_count": 9,
   "id": "f7ecb816",
   "metadata": {},
   "outputs": [],
   "source": [
    "Cat_Columns = list(Merged_Data.select_dtypes(include=['object']).columns)\n",
    "Cat_Merged_Data = Merged_Data[Cat_Columns]\n",
    "Num_Merged_Data = Merged_Data.drop(Cat_Columns, axis=1)"
   ]
  },
  {
   "cell_type": "code",
   "execution_count": 10,
   "id": "bb2b692e",
   "metadata": {
    "collapsed": true
   },
   "outputs": [
    {
     "data": {
      "text/html": [
       "<div>\n",
       "<style scoped>\n",
       "    .dataframe tbody tr th:only-of-type {\n",
       "        vertical-align: middle;\n",
       "    }\n",
       "\n",
       "    .dataframe tbody tr th {\n",
       "        vertical-align: top;\n",
       "    }\n",
       "\n",
       "    .dataframe thead th {\n",
       "        text-align: right;\n",
       "    }\n",
       "</style>\n",
       "<table border=\"1\" class=\"dataframe\">\n",
       "  <thead>\n",
       "    <tr style=\"text-align: right;\">\n",
       "      <th></th>\n",
       "      <th>Payment_Mode</th>\n",
       "      <th>Gender</th>\n",
       "      <th>Date of Travel</th>\n",
       "      <th>Company</th>\n",
       "      <th>City</th>\n",
       "      <th>Population</th>\n",
       "      <th>Users</th>\n",
       "    </tr>\n",
       "  </thead>\n",
       "  <tbody>\n",
       "    <tr>\n",
       "      <th>0</th>\n",
       "      <td>Card</td>\n",
       "      <td>Male</td>\n",
       "      <td>08/01/2016</td>\n",
       "      <td>Pink Cab</td>\n",
       "      <td>ATLANTA GA</td>\n",
       "      <td>814,885</td>\n",
       "      <td>24,701</td>\n",
       "    </tr>\n",
       "    <tr>\n",
       "      <th>1</th>\n",
       "      <td>Cash</td>\n",
       "      <td>Male</td>\n",
       "      <td>06/01/2016</td>\n",
       "      <td>Pink Cab</td>\n",
       "      <td>ATLANTA GA</td>\n",
       "      <td>814,885</td>\n",
       "      <td>24,701</td>\n",
       "    </tr>\n",
       "    <tr>\n",
       "      <th>2</th>\n",
       "      <td>Card</td>\n",
       "      <td>Male</td>\n",
       "      <td>02/01/2016</td>\n",
       "      <td>Pink Cab</td>\n",
       "      <td>ATLANTA GA</td>\n",
       "      <td>814,885</td>\n",
       "      <td>24,701</td>\n",
       "    </tr>\n",
       "    <tr>\n",
       "      <th>3</th>\n",
       "      <td>Card</td>\n",
       "      <td>Male</td>\n",
       "      <td>07/01/2016</td>\n",
       "      <td>Pink Cab</td>\n",
       "      <td>ATLANTA GA</td>\n",
       "      <td>814,885</td>\n",
       "      <td>24,701</td>\n",
       "    </tr>\n",
       "    <tr>\n",
       "      <th>4</th>\n",
       "      <td>Card</td>\n",
       "      <td>Male</td>\n",
       "      <td>03/01/2016</td>\n",
       "      <td>Pink Cab</td>\n",
       "      <td>ATLANTA GA</td>\n",
       "      <td>814,885</td>\n",
       "      <td>24,701</td>\n",
       "    </tr>\n",
       "    <tr>\n",
       "      <th>...</th>\n",
       "      <td>...</td>\n",
       "      <td>...</td>\n",
       "      <td>...</td>\n",
       "      <td>...</td>\n",
       "      <td>...</td>\n",
       "      <td>...</td>\n",
       "      <td>...</td>\n",
       "    </tr>\n",
       "    <tr>\n",
       "      <th>359387</th>\n",
       "      <td>Cash</td>\n",
       "      <td>Female</td>\n",
       "      <td>08/01/2018</td>\n",
       "      <td>Yellow Cab</td>\n",
       "      <td>WASHINGTON DC</td>\n",
       "      <td>418,859</td>\n",
       "      <td>127,001</td>\n",
       "    </tr>\n",
       "    <tr>\n",
       "      <th>359388</th>\n",
       "      <td>Card</td>\n",
       "      <td>Female</td>\n",
       "      <td>04/01/2018</td>\n",
       "      <td>Yellow Cab</td>\n",
       "      <td>WASHINGTON DC</td>\n",
       "      <td>418,859</td>\n",
       "      <td>127,001</td>\n",
       "    </tr>\n",
       "    <tr>\n",
       "      <th>359389</th>\n",
       "      <td>Cash</td>\n",
       "      <td>Male</td>\n",
       "      <td>05/01/2018</td>\n",
       "      <td>Yellow Cab</td>\n",
       "      <td>WASHINGTON DC</td>\n",
       "      <td>418,859</td>\n",
       "      <td>127,001</td>\n",
       "    </tr>\n",
       "    <tr>\n",
       "      <th>359390</th>\n",
       "      <td>Card</td>\n",
       "      <td>Male</td>\n",
       "      <td>05/01/2018</td>\n",
       "      <td>Yellow Cab</td>\n",
       "      <td>WASHINGTON DC</td>\n",
       "      <td>418,859</td>\n",
       "      <td>127,001</td>\n",
       "    </tr>\n",
       "    <tr>\n",
       "      <th>359391</th>\n",
       "      <td>Card</td>\n",
       "      <td>Male</td>\n",
       "      <td>02/01/2018</td>\n",
       "      <td>Yellow Cab</td>\n",
       "      <td>WASHINGTON DC</td>\n",
       "      <td>418,859</td>\n",
       "      <td>127,001</td>\n",
       "    </tr>\n",
       "  </tbody>\n",
       "</table>\n",
       "<p>359392 rows × 7 columns</p>\n",
       "</div>"
      ],
      "text/plain": [
       "       Payment_Mode  Gender Date of Travel     Company           City  \\\n",
       "0              Card    Male     08/01/2016    Pink Cab     ATLANTA GA   \n",
       "1              Cash    Male     06/01/2016    Pink Cab     ATLANTA GA   \n",
       "2              Card    Male     02/01/2016    Pink Cab     ATLANTA GA   \n",
       "3              Card    Male     07/01/2016    Pink Cab     ATLANTA GA   \n",
       "4              Card    Male     03/01/2016    Pink Cab     ATLANTA GA   \n",
       "...             ...     ...            ...         ...            ...   \n",
       "359387         Cash  Female     08/01/2018  Yellow Cab  WASHINGTON DC   \n",
       "359388         Card  Female     04/01/2018  Yellow Cab  WASHINGTON DC   \n",
       "359389         Cash    Male     05/01/2018  Yellow Cab  WASHINGTON DC   \n",
       "359390         Card    Male     05/01/2018  Yellow Cab  WASHINGTON DC   \n",
       "359391         Card    Male     02/01/2018  Yellow Cab  WASHINGTON DC   \n",
       "\n",
       "       Population      Users  \n",
       "0        814,885     24,701   \n",
       "1        814,885     24,701   \n",
       "2        814,885     24,701   \n",
       "3        814,885     24,701   \n",
       "4        814,885     24,701   \n",
       "...           ...        ...  \n",
       "359387   418,859    127,001   \n",
       "359388   418,859    127,001   \n",
       "359389   418,859    127,001   \n",
       "359390   418,859    127,001   \n",
       "359391   418,859    127,001   \n",
       "\n",
       "[359392 rows x 7 columns]"
      ]
     },
     "execution_count": 10,
     "metadata": {},
     "output_type": "execute_result"
    }
   ],
   "source": [
    "Cat_Merged_Data"
   ]
  },
  {
   "cell_type": "code",
   "execution_count": 11,
   "id": "dbf2df8e",
   "metadata": {
    "collapsed": true
   },
   "outputs": [
    {
     "data": {
      "text/html": [
       "<div>\n",
       "<style scoped>\n",
       "    .dataframe tbody tr th:only-of-type {\n",
       "        vertical-align: middle;\n",
       "    }\n",
       "\n",
       "    .dataframe tbody tr th {\n",
       "        vertical-align: top;\n",
       "    }\n",
       "\n",
       "    .dataframe thead th {\n",
       "        text-align: right;\n",
       "    }\n",
       "</style>\n",
       "<table border=\"1\" class=\"dataframe\">\n",
       "  <thead>\n",
       "    <tr style=\"text-align: right;\">\n",
       "      <th></th>\n",
       "      <th>Transaction ID_x</th>\n",
       "      <th>Customer ID</th>\n",
       "      <th>Age</th>\n",
       "      <th>Income (USD/Month)</th>\n",
       "      <th>Transaction ID_y</th>\n",
       "      <th>KM Travelled</th>\n",
       "      <th>Price Charged</th>\n",
       "      <th>Cost of Trip</th>\n",
       "    </tr>\n",
       "  </thead>\n",
       "  <tbody>\n",
       "    <tr>\n",
       "      <th>0</th>\n",
       "      <td>10000011</td>\n",
       "      <td>29290</td>\n",
       "      <td>28</td>\n",
       "      <td>10813</td>\n",
       "      <td>10000011</td>\n",
       "      <td>30.45</td>\n",
       "      <td>370.95</td>\n",
       "      <td>313.6350</td>\n",
       "    </tr>\n",
       "    <tr>\n",
       "      <th>1</th>\n",
       "      <td>10351127</td>\n",
       "      <td>29290</td>\n",
       "      <td>28</td>\n",
       "      <td>10813</td>\n",
       "      <td>10000012</td>\n",
       "      <td>28.62</td>\n",
       "      <td>358.52</td>\n",
       "      <td>334.8540</td>\n",
       "    </tr>\n",
       "    <tr>\n",
       "      <th>2</th>\n",
       "      <td>10412921</td>\n",
       "      <td>29290</td>\n",
       "      <td>28</td>\n",
       "      <td>10813</td>\n",
       "      <td>10000013</td>\n",
       "      <td>9.04</td>\n",
       "      <td>125.20</td>\n",
       "      <td>97.6320</td>\n",
       "    </tr>\n",
       "    <tr>\n",
       "      <th>3</th>\n",
       "      <td>10000012</td>\n",
       "      <td>27703</td>\n",
       "      <td>27</td>\n",
       "      <td>9237</td>\n",
       "      <td>10000014</td>\n",
       "      <td>33.17</td>\n",
       "      <td>377.40</td>\n",
       "      <td>351.6020</td>\n",
       "    </tr>\n",
       "    <tr>\n",
       "      <th>4</th>\n",
       "      <td>10320494</td>\n",
       "      <td>27703</td>\n",
       "      <td>27</td>\n",
       "      <td>9237</td>\n",
       "      <td>10000015</td>\n",
       "      <td>8.73</td>\n",
       "      <td>114.62</td>\n",
       "      <td>97.7760</td>\n",
       "    </tr>\n",
       "    <tr>\n",
       "      <th>...</th>\n",
       "      <td>...</td>\n",
       "      <td>...</td>\n",
       "      <td>...</td>\n",
       "      <td>...</td>\n",
       "      <td>...</td>\n",
       "      <td>...</td>\n",
       "      <td>...</td>\n",
       "      <td>...</td>\n",
       "    </tr>\n",
       "    <tr>\n",
       "      <th>359387</th>\n",
       "      <td>10052232</td>\n",
       "      <td>29086</td>\n",
       "      <td>37</td>\n",
       "      <td>3484</td>\n",
       "      <td>10440101</td>\n",
       "      <td>4.80</td>\n",
       "      <td>69.24</td>\n",
       "      <td>63.3600</td>\n",
       "    </tr>\n",
       "    <tr>\n",
       "      <th>359388</th>\n",
       "      <td>10411642</td>\n",
       "      <td>29086</td>\n",
       "      <td>37</td>\n",
       "      <td>3484</td>\n",
       "      <td>10440104</td>\n",
       "      <td>8.40</td>\n",
       "      <td>113.75</td>\n",
       "      <td>106.8480</td>\n",
       "    </tr>\n",
       "    <tr>\n",
       "      <th>359389</th>\n",
       "      <td>10052234</td>\n",
       "      <td>27715</td>\n",
       "      <td>23</td>\n",
       "      <td>19368</td>\n",
       "      <td>10440105</td>\n",
       "      <td>27.75</td>\n",
       "      <td>437.07</td>\n",
       "      <td>349.6500</td>\n",
       "    </tr>\n",
       "    <tr>\n",
       "      <th>359390</th>\n",
       "      <td>10179729</td>\n",
       "      <td>27715</td>\n",
       "      <td>23</td>\n",
       "      <td>19368</td>\n",
       "      <td>10440106</td>\n",
       "      <td>8.80</td>\n",
       "      <td>146.19</td>\n",
       "      <td>114.0480</td>\n",
       "    </tr>\n",
       "    <tr>\n",
       "      <th>359391</th>\n",
       "      <td>10301965</td>\n",
       "      <td>27715</td>\n",
       "      <td>23</td>\n",
       "      <td>19368</td>\n",
       "      <td>10440107</td>\n",
       "      <td>12.76</td>\n",
       "      <td>191.58</td>\n",
       "      <td>177.6192</td>\n",
       "    </tr>\n",
       "  </tbody>\n",
       "</table>\n",
       "<p>359392 rows × 8 columns</p>\n",
       "</div>"
      ],
      "text/plain": [
       "        Transaction ID_x  Customer ID  Age  Income (USD/Month)  \\\n",
       "0               10000011        29290   28               10813   \n",
       "1               10351127        29290   28               10813   \n",
       "2               10412921        29290   28               10813   \n",
       "3               10000012        27703   27                9237   \n",
       "4               10320494        27703   27                9237   \n",
       "...                  ...          ...  ...                 ...   \n",
       "359387          10052232        29086   37                3484   \n",
       "359388          10411642        29086   37                3484   \n",
       "359389          10052234        27715   23               19368   \n",
       "359390          10179729        27715   23               19368   \n",
       "359391          10301965        27715   23               19368   \n",
       "\n",
       "        Transaction ID_y  KM Travelled  Price Charged  Cost of Trip  \n",
       "0               10000011         30.45         370.95      313.6350  \n",
       "1               10000012         28.62         358.52      334.8540  \n",
       "2               10000013          9.04         125.20       97.6320  \n",
       "3               10000014         33.17         377.40      351.6020  \n",
       "4               10000015          8.73         114.62       97.7760  \n",
       "...                  ...           ...            ...           ...  \n",
       "359387          10440101          4.80          69.24       63.3600  \n",
       "359388          10440104          8.40         113.75      106.8480  \n",
       "359389          10440105         27.75         437.07      349.6500  \n",
       "359390          10440106          8.80         146.19      114.0480  \n",
       "359391          10440107         12.76         191.58      177.6192  \n",
       "\n",
       "[359392 rows x 8 columns]"
      ]
     },
     "execution_count": 11,
     "metadata": {},
     "output_type": "execute_result"
    }
   ],
   "source": [
    "Num_Merged_Data"
   ]
  },
  {
   "cell_type": "markdown",
   "id": "ce5649c7",
   "metadata": {},
   "source": [
    "### Descriptive Analysis "
   ]
  },
  {
   "cell_type": "markdown",
   "id": "db267575",
   "metadata": {},
   "source": [
    "#### Data type and missing values "
   ]
  },
  {
   "cell_type": "code",
   "execution_count": 12,
   "id": "ea1eb275",
   "metadata": {
    "collapsed": true
   },
   "outputs": [
    {
     "name": "stdout",
     "output_type": "stream",
     "text": [
      "<class 'pandas.core.frame.DataFrame'>\n",
      "Int64Index: 359392 entries, 0 to 359391\n",
      "Data columns (total 15 columns):\n",
      " #   Column              Non-Null Count   Dtype  \n",
      "---  ------              --------------   -----  \n",
      " 0   Transaction ID_x    359392 non-null  int64  \n",
      " 1   Customer ID         359392 non-null  int64  \n",
      " 2   Payment_Mode        359392 non-null  object \n",
      " 3   Gender              359392 non-null  object \n",
      " 4   Age                 359392 non-null  int64  \n",
      " 5   Income (USD/Month)  359392 non-null  int64  \n",
      " 6   Transaction ID_y    359392 non-null  int64  \n",
      " 7   Date of Travel      359392 non-null  object \n",
      " 8   Company             359392 non-null  object \n",
      " 9   City                359392 non-null  object \n",
      " 10  KM Travelled        359392 non-null  float64\n",
      " 11  Price Charged       359392 non-null  float64\n",
      " 12  Cost of Trip        359392 non-null  float64\n",
      " 13  Population          359392 non-null  object \n",
      " 14  Users               359392 non-null  object \n",
      "dtypes: float64(3), int64(5), object(7)\n",
      "memory usage: 43.9+ MB\n",
      "None\n"
     ]
    }
   ],
   "source": [
    "print(Merged_Data.info())"
   ]
  },
  {
   "cell_type": "code",
   "execution_count": 13,
   "id": "f132e4c2",
   "metadata": {
    "collapsed": true
   },
   "outputs": [
    {
     "name": "stdout",
     "output_type": "stream",
     "text": [
      "Transaction ID_x      0\n",
      "Customer ID           0\n",
      "Payment_Mode          0\n",
      "Gender                0\n",
      "Age                   0\n",
      "Income (USD/Month)    0\n",
      "Transaction ID_y      0\n",
      "Date of Travel        0\n",
      "Company               0\n",
      "City                  0\n",
      "KM Travelled          0\n",
      "Price Charged         0\n",
      "Cost of Trip          0\n",
      "Population            0\n",
      "Users                 0\n",
      "dtype: int64\n"
     ]
    }
   ],
   "source": [
    "print(Merged_Data.isnull().sum())"
   ]
  },
  {
   "cell_type": "code",
   "execution_count": 14,
   "id": "007df16f",
   "metadata": {},
   "outputs": [],
   "source": [
    "import matplotlib.pyplot as plt\n",
    "%matplotlib inline\n",
    "import seaborn as sns\n",
    "import statistics"
   ]
  },
  {
   "cell_type": "code",
   "execution_count": 15,
   "id": "856e5b45",
   "metadata": {
    "collapsed": true
   },
   "outputs": [
    {
     "data": {
      "text/html": [
       "<div>\n",
       "<style scoped>\n",
       "    .dataframe tbody tr th:only-of-type {\n",
       "        vertical-align: middle;\n",
       "    }\n",
       "\n",
       "    .dataframe tbody tr th {\n",
       "        vertical-align: top;\n",
       "    }\n",
       "\n",
       "    .dataframe thead th {\n",
       "        text-align: right;\n",
       "    }\n",
       "</style>\n",
       "<table border=\"1\" class=\"dataframe\">\n",
       "  <thead>\n",
       "    <tr style=\"text-align: right;\">\n",
       "      <th></th>\n",
       "      <th>Transaction ID_x</th>\n",
       "      <th>Customer ID</th>\n",
       "      <th>Age</th>\n",
       "      <th>Income (USD/Month)</th>\n",
       "      <th>Transaction ID_y</th>\n",
       "      <th>KM Travelled</th>\n",
       "      <th>Price Charged</th>\n",
       "      <th>Cost of Trip</th>\n",
       "    </tr>\n",
       "  </thead>\n",
       "  <tbody>\n",
       "    <tr>\n",
       "      <th>count</th>\n",
       "      <td>3.593920e+05</td>\n",
       "      <td>359392.000000</td>\n",
       "      <td>359392.000000</td>\n",
       "      <td>359392.000000</td>\n",
       "      <td>3.593920e+05</td>\n",
       "      <td>359392.000000</td>\n",
       "      <td>359392.000000</td>\n",
       "      <td>359392.000000</td>\n",
       "    </tr>\n",
       "    <tr>\n",
       "      <th>mean</th>\n",
       "      <td>1.021416e+07</td>\n",
       "      <td>22588.946270</td>\n",
       "      <td>35.360859</td>\n",
       "      <td>15123.528276</td>\n",
       "      <td>1.022076e+07</td>\n",
       "      <td>22.567254</td>\n",
       "      <td>423.443311</td>\n",
       "      <td>286.190113</td>\n",
       "    </tr>\n",
       "    <tr>\n",
       "      <th>std</th>\n",
       "      <td>1.293207e+05</td>\n",
       "      <td>21767.874565</td>\n",
       "      <td>12.570175</td>\n",
       "      <td>8001.405373</td>\n",
       "      <td>1.268058e+05</td>\n",
       "      <td>12.233526</td>\n",
       "      <td>274.378911</td>\n",
       "      <td>157.993661</td>\n",
       "    </tr>\n",
       "    <tr>\n",
       "      <th>min</th>\n",
       "      <td>1.000001e+07</td>\n",
       "      <td>1.000000</td>\n",
       "      <td>18.000000</td>\n",
       "      <td>2000.000000</td>\n",
       "      <td>1.000001e+07</td>\n",
       "      <td>1.900000</td>\n",
       "      <td>15.600000</td>\n",
       "      <td>19.000000</td>\n",
       "    </tr>\n",
       "    <tr>\n",
       "      <th>25%</th>\n",
       "      <td>1.010021e+07</td>\n",
       "      <td>2786.000000</td>\n",
       "      <td>25.000000</td>\n",
       "      <td>8397.000000</td>\n",
       "      <td>1.011081e+07</td>\n",
       "      <td>12.000000</td>\n",
       "      <td>206.437500</td>\n",
       "      <td>151.200000</td>\n",
       "    </tr>\n",
       "    <tr>\n",
       "      <th>50%</th>\n",
       "      <td>1.021301e+07</td>\n",
       "      <td>8153.000000</td>\n",
       "      <td>33.000000</td>\n",
       "      <td>14825.000000</td>\n",
       "      <td>1.022104e+07</td>\n",
       "      <td>22.440000</td>\n",
       "      <td>386.360000</td>\n",
       "      <td>282.480000</td>\n",
       "    </tr>\n",
       "    <tr>\n",
       "      <th>75%</th>\n",
       "      <td>1.032615e+07</td>\n",
       "      <td>43928.000000</td>\n",
       "      <td>42.000000</td>\n",
       "      <td>21108.000000</td>\n",
       "      <td>1.033094e+07</td>\n",
       "      <td>32.960000</td>\n",
       "      <td>583.660000</td>\n",
       "      <td>413.683200</td>\n",
       "    </tr>\n",
       "    <tr>\n",
       "      <th>max</th>\n",
       "      <td>1.044011e+07</td>\n",
       "      <td>60000.000000</td>\n",
       "      <td>65.000000</td>\n",
       "      <td>34996.000000</td>\n",
       "      <td>1.044011e+07</td>\n",
       "      <td>48.000000</td>\n",
       "      <td>2048.030000</td>\n",
       "      <td>691.200000</td>\n",
       "    </tr>\n",
       "  </tbody>\n",
       "</table>\n",
       "</div>"
      ],
      "text/plain": [
       "       Transaction ID_x    Customer ID            Age  Income (USD/Month)  \\\n",
       "count      3.593920e+05  359392.000000  359392.000000       359392.000000   \n",
       "mean       1.021416e+07   22588.946270      35.360859        15123.528276   \n",
       "std        1.293207e+05   21767.874565      12.570175         8001.405373   \n",
       "min        1.000001e+07       1.000000      18.000000         2000.000000   \n",
       "25%        1.010021e+07    2786.000000      25.000000         8397.000000   \n",
       "50%        1.021301e+07    8153.000000      33.000000        14825.000000   \n",
       "75%        1.032615e+07   43928.000000      42.000000        21108.000000   \n",
       "max        1.044011e+07   60000.000000      65.000000        34996.000000   \n",
       "\n",
       "       Transaction ID_y   KM Travelled  Price Charged   Cost of Trip  \n",
       "count      3.593920e+05  359392.000000  359392.000000  359392.000000  \n",
       "mean       1.022076e+07      22.567254     423.443311     286.190113  \n",
       "std        1.268058e+05      12.233526     274.378911     157.993661  \n",
       "min        1.000001e+07       1.900000      15.600000      19.000000  \n",
       "25%        1.011081e+07      12.000000     206.437500     151.200000  \n",
       "50%        1.022104e+07      22.440000     386.360000     282.480000  \n",
       "75%        1.033094e+07      32.960000     583.660000     413.683200  \n",
       "max        1.044011e+07      48.000000    2048.030000     691.200000  "
      ]
     },
     "execution_count": 15,
     "metadata": {},
     "output_type": "execute_result"
    }
   ],
   "source": [
    "stats = Merged_Data.describe()\n",
    "stats"
   ]
  },
  {
   "cell_type": "code",
   "execution_count": 16,
   "id": "dde20af1",
   "metadata": {},
   "outputs": [],
   "source": [
    "stats.loc['variance'] = Num_Merged_Data.var()\n",
    "stats.loc['skewness'] = Num_Merged_Data.skew()\n",
    "stats.loc['kurtosis'] = Num_Merged_Data.kurtosis()\n",
    "stats.loc['median'] = Num_Merged_Data.median()\n",
    "stats.loc['mode'] = Num_Merged_Data.mode().iloc[0]"
   ]
  },
  {
   "cell_type": "code",
   "execution_count": 17,
   "id": "32e470d4",
   "metadata": {
    "collapsed": true
   },
   "outputs": [
    {
     "data": {
      "text/html": [
       "<div>\n",
       "<style scoped>\n",
       "    .dataframe tbody tr th:only-of-type {\n",
       "        vertical-align: middle;\n",
       "    }\n",
       "\n",
       "    .dataframe tbody tr th {\n",
       "        vertical-align: top;\n",
       "    }\n",
       "\n",
       "    .dataframe thead th {\n",
       "        text-align: right;\n",
       "    }\n",
       "</style>\n",
       "<table border=\"1\" class=\"dataframe\">\n",
       "  <thead>\n",
       "    <tr style=\"text-align: right;\">\n",
       "      <th></th>\n",
       "      <th>Transaction ID_x</th>\n",
       "      <th>Customer ID</th>\n",
       "      <th>Age</th>\n",
       "      <th>Income (USD/Month)</th>\n",
       "      <th>Transaction ID_y</th>\n",
       "      <th>KM Travelled</th>\n",
       "      <th>Price Charged</th>\n",
       "      <th>Cost of Trip</th>\n",
       "    </tr>\n",
       "  </thead>\n",
       "  <tbody>\n",
       "    <tr>\n",
       "      <th>count</th>\n",
       "      <td>3.593920e+05</td>\n",
       "      <td>3.593920e+05</td>\n",
       "      <td>359392.000000</td>\n",
       "      <td>3.593920e+05</td>\n",
       "      <td>3.593920e+05</td>\n",
       "      <td>359392.000000</td>\n",
       "      <td>359392.000000</td>\n",
       "      <td>359392.000000</td>\n",
       "    </tr>\n",
       "    <tr>\n",
       "      <th>mean</th>\n",
       "      <td>1.021416e+07</td>\n",
       "      <td>2.258895e+04</td>\n",
       "      <td>35.360859</td>\n",
       "      <td>1.512353e+04</td>\n",
       "      <td>1.022076e+07</td>\n",
       "      <td>22.567254</td>\n",
       "      <td>423.443311</td>\n",
       "      <td>286.190113</td>\n",
       "    </tr>\n",
       "    <tr>\n",
       "      <th>std</th>\n",
       "      <td>1.293207e+05</td>\n",
       "      <td>2.176787e+04</td>\n",
       "      <td>12.570175</td>\n",
       "      <td>8.001405e+03</td>\n",
       "      <td>1.268058e+05</td>\n",
       "      <td>12.233526</td>\n",
       "      <td>274.378911</td>\n",
       "      <td>157.993661</td>\n",
       "    </tr>\n",
       "    <tr>\n",
       "      <th>min</th>\n",
       "      <td>1.000001e+07</td>\n",
       "      <td>1.000000e+00</td>\n",
       "      <td>18.000000</td>\n",
       "      <td>2.000000e+03</td>\n",
       "      <td>1.000001e+07</td>\n",
       "      <td>1.900000</td>\n",
       "      <td>15.600000</td>\n",
       "      <td>19.000000</td>\n",
       "    </tr>\n",
       "    <tr>\n",
       "      <th>25%</th>\n",
       "      <td>1.010021e+07</td>\n",
       "      <td>2.786000e+03</td>\n",
       "      <td>25.000000</td>\n",
       "      <td>8.397000e+03</td>\n",
       "      <td>1.011081e+07</td>\n",
       "      <td>12.000000</td>\n",
       "      <td>206.437500</td>\n",
       "      <td>151.200000</td>\n",
       "    </tr>\n",
       "    <tr>\n",
       "      <th>50%</th>\n",
       "      <td>1.021301e+07</td>\n",
       "      <td>8.153000e+03</td>\n",
       "      <td>33.000000</td>\n",
       "      <td>1.482500e+04</td>\n",
       "      <td>1.022104e+07</td>\n",
       "      <td>22.440000</td>\n",
       "      <td>386.360000</td>\n",
       "      <td>282.480000</td>\n",
       "    </tr>\n",
       "    <tr>\n",
       "      <th>75%</th>\n",
       "      <td>1.032615e+07</td>\n",
       "      <td>4.392800e+04</td>\n",
       "      <td>42.000000</td>\n",
       "      <td>2.110800e+04</td>\n",
       "      <td>1.033094e+07</td>\n",
       "      <td>32.960000</td>\n",
       "      <td>583.660000</td>\n",
       "      <td>413.683200</td>\n",
       "    </tr>\n",
       "    <tr>\n",
       "      <th>max</th>\n",
       "      <td>1.044011e+07</td>\n",
       "      <td>6.000000e+04</td>\n",
       "      <td>65.000000</td>\n",
       "      <td>3.499600e+04</td>\n",
       "      <td>1.044011e+07</td>\n",
       "      <td>48.000000</td>\n",
       "      <td>2048.030000</td>\n",
       "      <td>691.200000</td>\n",
       "    </tr>\n",
       "    <tr>\n",
       "      <th>variance</th>\n",
       "      <td>1.672384e+10</td>\n",
       "      <td>4.738404e+08</td>\n",
       "      <td>158.009299</td>\n",
       "      <td>6.402249e+07</td>\n",
       "      <td>1.607971e+10</td>\n",
       "      <td>149.659157</td>\n",
       "      <td>75283.787046</td>\n",
       "      <td>24961.996964</td>\n",
       "    </tr>\n",
       "    <tr>\n",
       "      <th>skewness</th>\n",
       "      <td>3.122985e-02</td>\n",
       "      <td>3.928542e-01</td>\n",
       "      <td>0.680662</td>\n",
       "      <td>2.933755e-01</td>\n",
       "      <td>7.232657e-05</td>\n",
       "      <td>0.055779</td>\n",
       "      <td>0.873761</td>\n",
       "      <td>0.137958</td>\n",
       "    </tr>\n",
       "    <tr>\n",
       "      <th>kurtosis</th>\n",
       "      <td>-1.228240e+00</td>\n",
       "      <td>-1.613634e+00</td>\n",
       "      <td>-0.462258</td>\n",
       "      <td>-6.821110e-01</td>\n",
       "      <td>-1.198925e+00</td>\n",
       "      <td>-1.126875</td>\n",
       "      <td>0.747635</td>\n",
       "      <td>-1.012233</td>\n",
       "    </tr>\n",
       "    <tr>\n",
       "      <th>median</th>\n",
       "      <td>1.021301e+07</td>\n",
       "      <td>8.153000e+03</td>\n",
       "      <td>33.000000</td>\n",
       "      <td>1.482500e+04</td>\n",
       "      <td>1.022104e+07</td>\n",
       "      <td>22.440000</td>\n",
       "      <td>386.360000</td>\n",
       "      <td>282.480000</td>\n",
       "    </tr>\n",
       "    <tr>\n",
       "      <th>mode</th>\n",
       "      <td>1.000001e+07</td>\n",
       "      <td>4.940000e+02</td>\n",
       "      <td>23.000000</td>\n",
       "      <td>2.088400e+04</td>\n",
       "      <td>1.000001e+07</td>\n",
       "      <td>33.600000</td>\n",
       "      <td>191.270000</td>\n",
       "      <td>362.880000</td>\n",
       "    </tr>\n",
       "  </tbody>\n",
       "</table>\n",
       "</div>"
      ],
      "text/plain": [
       "          Transaction ID_x   Customer ID            Age  Income (USD/Month)  \\\n",
       "count         3.593920e+05  3.593920e+05  359392.000000        3.593920e+05   \n",
       "mean          1.021416e+07  2.258895e+04      35.360859        1.512353e+04   \n",
       "std           1.293207e+05  2.176787e+04      12.570175        8.001405e+03   \n",
       "min           1.000001e+07  1.000000e+00      18.000000        2.000000e+03   \n",
       "25%           1.010021e+07  2.786000e+03      25.000000        8.397000e+03   \n",
       "50%           1.021301e+07  8.153000e+03      33.000000        1.482500e+04   \n",
       "75%           1.032615e+07  4.392800e+04      42.000000        2.110800e+04   \n",
       "max           1.044011e+07  6.000000e+04      65.000000        3.499600e+04   \n",
       "variance      1.672384e+10  4.738404e+08     158.009299        6.402249e+07   \n",
       "skewness      3.122985e-02  3.928542e-01       0.680662        2.933755e-01   \n",
       "kurtosis     -1.228240e+00 -1.613634e+00      -0.462258       -6.821110e-01   \n",
       "median        1.021301e+07  8.153000e+03      33.000000        1.482500e+04   \n",
       "mode          1.000001e+07  4.940000e+02      23.000000        2.088400e+04   \n",
       "\n",
       "          Transaction ID_y   KM Travelled  Price Charged   Cost of Trip  \n",
       "count         3.593920e+05  359392.000000  359392.000000  359392.000000  \n",
       "mean          1.022076e+07      22.567254     423.443311     286.190113  \n",
       "std           1.268058e+05      12.233526     274.378911     157.993661  \n",
       "min           1.000001e+07       1.900000      15.600000      19.000000  \n",
       "25%           1.011081e+07      12.000000     206.437500     151.200000  \n",
       "50%           1.022104e+07      22.440000     386.360000     282.480000  \n",
       "75%           1.033094e+07      32.960000     583.660000     413.683200  \n",
       "max           1.044011e+07      48.000000    2048.030000     691.200000  \n",
       "variance      1.607971e+10     149.659157   75283.787046   24961.996964  \n",
       "skewness      7.232657e-05       0.055779       0.873761       0.137958  \n",
       "kurtosis     -1.198925e+00      -1.126875       0.747635      -1.012233  \n",
       "median        1.022104e+07      22.440000     386.360000     282.480000  \n",
       "mode          1.000001e+07      33.600000     191.270000     362.880000  "
      ]
     },
     "execution_count": 17,
     "metadata": {},
     "output_type": "execute_result"
    }
   ],
   "source": [
    "stats"
   ]
  },
  {
   "cell_type": "markdown",
   "id": "d41fe500",
   "metadata": {},
   "source": [
    "### Plots "
   ]
  },
  {
   "cell_type": "markdown",
   "id": "4159e8a7",
   "metadata": {},
   "source": [
    "#### Histogram for Numerical Datasets "
   ]
  },
  {
   "cell_type": "code",
   "execution_count": 18,
   "id": "809ee4a8",
   "metadata": {
    "collapsed": true
   },
   "outputs": [
    {
     "data": {
      "image/png": "[encoded data removed]",
      "text/plain": [
       "<Figure size 1080x720 with 9 Axes>"
      ]
     },
     "metadata": {
      "needs_background": "light"
     },
     "output_type": "display_data"
    }
   ],
   "source": [
    "Num_Merged_Data.hist(bins=20, figsize=(15,10))\n",
    "plt.show()"
   ]
  },
  {
   "cell_type": "markdown",
   "id": "2ede9b74",
   "metadata": {},
   "source": [
    "####  Bar Charts for Categorical Datasets"
   ]
  },
  {
   "cell_type": "code",
   "execution_count": 74,
   "id": "f6d649be",
   "metadata": {
    "collapsed": true
   },
   "outputs": [
    {
     "data": {
      "image/png": "[encoded data removed]",
      "text/plain": [
       "<Figure size 720x360 with 1 Axes>"
      ]
     },
     "metadata": {
      "needs_background": "light"
     },
     "output_type": "display_data"
    }
   ],
   "source": [
    "Cat_Merged_Data['Company'].value_counts().plot(kind='bar', figsize=(10,5))\n",
    "plt.title('Frequency Distribution of Company')\n",
    "plt.xlabel('Categories')\n",
    "plt.ylabel('Frequency')\n",
    "plt.show()"
   ]
  },
  {
   "cell_type": "code",
   "execution_count": 20,
   "id": "c45956f5",
   "metadata": {
    "collapsed": true
   },
   "outputs": [
    {
     "data": {
      "image/png": "[encoded data removed]",
      "text/plain": [
       "<Figure size 720x360 with 1 Axes>"
      ]
     },
     "metadata": {
      "needs_background": "light"
     },
     "output_type": "display_data"
    }
   ],
   "source": [
    "Cat_Merged_Data['City'].value_counts().plot(kind='bar', figsize=(10,5))\n",
    "plt.title('Frequency Distribution of Cities')\n",
    "plt.xlabel('Categories')\n",
    "plt.ylabel('Frequency')\n",
    "plt.show()"
   ]
  },
  {
   "cell_type": "code",
   "execution_count": 21,
   "id": "e6f1a223",
   "metadata": {
    "collapsed": true
   },
   "outputs": [
    {
     "data": {
      "image/png": "[encoded data removed]",
      "text/plain": [
       "<Figure size 720x360 with 1 Axes>"
      ]
     },
     "metadata": {
      "needs_background": "light"
     },
     "output_type": "display_data"
    }
   ],
   "source": [
    "Cat_Merged_Data['Payment_Mode'].value_counts().plot(kind='bar', figsize=(10,5))\n",
    "plt.title('Frequency Distribution of Payment Mode')\n",
    "plt.xlabel('Categories')\n",
    "plt.ylabel('Frequency')\n",
    "plt.show()"
   ]
  },
  {
   "cell_type": "code",
   "execution_count": 22,
   "id": "537ca07e",
   "metadata": {
    "collapsed": true
   },
   "outputs": [
    {
     "data": {
      "image/png": "[encoded data removed]",
      "text/plain": [
       "<Figure size 720x360 with 1 Axes>"
      ]
     },
     "metadata": {
      "needs_background": "light"
     },
     "output_type": "display_data"
    }
   ],
   "source": [
    "Cat_Merged_Data['Gender'].value_counts().plot(kind='bar', figsize=(10,5))\n",
    "plt.title('Frequency Distribution of Gender')\n",
    "plt.xlabel('Categories')\n",
    "plt.ylabel('Frequency')\n",
    "plt.show()"
   ]
  },
  {
   "cell_type": "code",
   "execution_count": 23,
   "id": "36bd7c9f",
   "metadata": {
    "collapsed": true
   },
   "outputs": [
    {
     "data": {
      "image/png": "[encoded data removed]",
      "text/plain": [
       "<Figure size 720x360 with 1 Axes>"
      ]
     },
     "metadata": {
      "needs_background": "light"
     },
     "output_type": "display_data"
    }
   ],
   "source": [
    "Cat_Merged_Data['Date of Travel'].value_counts().plot(kind='bar', figsize=(10,5))\n",
    "plt.title('Frequency Distribution of Date of Travel')\n",
    "plt.xlabel('Categories')\n",
    "plt.ylabel('Frequency')\n",
    "plt.show()"
   ]
  },
  {
   "cell_type": "code",
   "execution_count": 24,
   "id": "4b39639c",
   "metadata": {
    "collapsed": true
   },
   "outputs": [
    {
     "data": {
      "image/png": "[encoded data removed]",
      "text/plain": [
       "<Figure size 720x360 with 1 Axes>"
      ]
     },
     "metadata": {
      "needs_background": "light"
     },
     "output_type": "display_data"
    }
   ],
   "source": [
    "Cat_Merged_Data['Population'].value_counts().plot(kind='bar', figsize=(10,5))\n",
    "plt.title('Frequency Distribution of Population')\n",
    "plt.xlabel('Categories')\n",
    "plt.ylabel('Frequency')\n",
    "plt.show()"
   ]
  },
  {
   "cell_type": "code",
   "execution_count": 25,
   "id": "e29b6a4e",
   "metadata": {
    "collapsed": true
   },
   "outputs": [
    {
     "data": {
      "image/png": "[encoded data removed]",
      "text/plain": [
       "<Figure size 720x360 with 1 Axes>"
      ]
     },
     "metadata": {
      "needs_background": "light"
     },
     "output_type": "display_data"
    }
   ],
   "source": [
    "Cat_Merged_Data['Users'].value_counts().plot(kind='bar', figsize=(10,5))\n",
    "plt.title('Frequency Distribution of Users')\n",
    "plt.xlabel('Categories')\n",
    "plt.ylabel('Frequency')\n",
    "plt.show()"
   ]
  },
  {
   "cell_type": "markdown",
   "id": "bfc36d41",
   "metadata": {},
   "source": [
    "### Correletion Analysis "
   ]
  },
  {
   "cell_type": "markdown",
   "id": "9a5e7109",
   "metadata": {},
   "source": [
    "#### Correlation analysis on numerical variables"
   ]
  },
  {
   "cell_type": "code",
   "execution_count": 26,
   "id": "8ede353f",
   "metadata": {
    "collapsed": true
   },
   "outputs": [
    {
     "data": {
      "text/plain": [
       "<AxesSubplot:>"
      ]
     },
     "execution_count": 26,
     "metadata": {},
     "output_type": "execute_result"
    },
    {
     "data": {
      "image/png": "[encoded data removed]",
      "text/plain": [
       "<Figure size 432x288 with 2 Axes>"
      ]
     },
     "metadata": {
      "needs_background": "light"
     },
     "output_type": "display_data"
    }
   ],
   "source": [
    "corr = Num_Merged_Data.corr()\n",
    "sns.heatmap(corr, annot=True)"
   ]
  },
  {
   "cell_type": "markdown",
   "id": "50006401",
   "metadata": {},
   "source": [
    "#### chi-square test of independence on categorical variables"
   ]
  },
  {
   "cell_type": "code",
   "execution_count": 27,
   "id": "cbb63f99",
   "metadata": {},
   "outputs": [],
   "source": [
    "from scipy.stats.contingency import chi2_contingency"
   ]
  },
  {
   "cell_type": "code",
   "execution_count": 28,
   "id": "71e385b6",
   "metadata": {},
   "outputs": [],
   "source": [
    "Contingency_table = pd.crosstab(Cat_Merged_Data['Company'], Cat_Merged_Data['Gender'])\n",
    "chi2, p_value, dof, expected = chi2_contingency(Contingency_table)"
   ]
  },
  {
   "cell_type": "code",
   "execution_count": 29,
   "id": "944be475",
   "metadata": {
    "collapsed": true
   },
   "outputs": [
    {
     "name": "stdout",
     "output_type": "stream",
     "text": [
      "Chi-square statistic: 197.15183275110428\n",
      "P-value: 8.737507017240078e-45\n",
      "Degrees of freedom: 1\n",
      "Expected frequencies:\n",
      " [[ 33594.7639569  51116.2360431]\n",
      " [108933.2360431 165747.7639569]]\n"
     ]
    }
   ],
   "source": [
    "print(\"Chi-square statistic:\", chi2)\n",
    "print(\"P-value:\", p_value)\n",
    "print(\"Degrees of freedom:\", dof)\n",
    "print(\"Expected frequencies:\\n\", expected)"
   ]
  },
  {
   "cell_type": "code",
   "execution_count": 30,
   "id": "cacf5bf1",
   "metadata": {
    "collapsed": true
   },
   "outputs": [
    {
     "data": {
      "text/plain": [
       "<AxesSubplot:xlabel='Gender', ylabel='Company'>"
      ]
     },
     "execution_count": 30,
     "metadata": {},
     "output_type": "execute_result"
    },
    {
     "data": {
      "image/png": "[encoded data removed]",
      "text/plain": [
       "<Figure size 432x288 with 2 Axes>"
      ]
     },
     "metadata": {
      "needs_background": "light"
     },
     "output_type": "display_data"
    }
   ],
   "source": [
    "sns.heatmap(Contingency_table, cmap='coolwarm')"
   ]
  },
  {
   "cell_type": "code",
   "execution_count": 31,
   "id": "cc76fb5b",
   "metadata": {},
   "outputs": [],
   "source": [
    "Contingency_table = pd.crosstab(Cat_Merged_Data['Company'], Cat_Merged_Data['City'])\n",
    "chi2, p_value, dof, expected = chi2_contingency(Contingency_table)"
   ]
  },
  {
   "cell_type": "code",
   "execution_count": 32,
   "id": "d215877f",
   "metadata": {
    "collapsed": true
   },
   "outputs": [
    {
     "name": "stdout",
     "output_type": "stream",
     "text": [
      "Chi-square statistic: 39825.168294537754\n",
      "P-value: 0.0\n",
      "Degrees of freedom: 18\n",
      "Expected frequencies:\n",
      " [[ 1781.23338026  1154.01860921  6998.59488247 13346.87576518\n",
      "   1653.95191601   901.57703844 11321.6862451   1521.24920421\n",
      "    709.47630999 23543.53529016   938.58294564   486.49804114\n",
      "    309.48252326   557.91708497  4829.15303624  1884.94420299\n",
      "   2007.98295176   455.1490879  10309.09148506]\n",
      " [ 5775.76661974  3741.98139079 22693.40511753 43278.12423482\n",
      "   5363.04808399  2923.42296156 36711.3137549   4932.75079579\n",
      "   2300.52369001 76341.46470984  3043.41705436  1577.50195886\n",
      "   1003.51747674  1809.08291503 15658.84696376  6112.05579701\n",
      "   6511.01704824  1475.8509121  33427.90851494]]\n"
     ]
    }
   ],
   "source": [
    "print(\"Chi-square statistic:\", chi2)\n",
    "print(\"P-value:\", p_value)\n",
    "print(\"Degrees of freedom:\", dof)\n",
    "print(\"Expected frequencies:\\n\", expected)"
   ]
  },
  {
   "cell_type": "code",
   "execution_count": 33,
   "id": "1cbf211f",
   "metadata": {
    "collapsed": true
   },
   "outputs": [
    {
     "data": {
      "text/plain": [
       "<AxesSubplot:xlabel='City', ylabel='Company'>"
      ]
     },
     "execution_count": 33,
     "metadata": {},
     "output_type": "execute_result"
    },
    {
     "data": {
      "image/png": "[encoded data removed]",
      "text/plain": [
       "<Figure size 432x288 with 2 Axes>"
      ]
     },
     "metadata": {
      "needs_background": "light"
     },
     "output_type": "display_data"
    }
   ],
   "source": [
    "sns.heatmap(Contingency_table, cmap='coolwarm')"
   ]
  },
  {
   "cell_type": "markdown",
   "id": "1f87d464",
   "metadata": {},
   "source": [
    "### Time series Analysis"
   ]
  },
  {
   "cell_type": "code",
   "execution_count": 34,
   "id": "a0306298",
   "metadata": {},
   "outputs": [],
   "source": [
    "import statsmodels.api as sm\n",
    "from statsmodels.tsa.seasonal import seasonal_decompose"
   ]
  },
  {
   "cell_type": "markdown",
   "id": "521a5c6c",
   "metadata": {},
   "source": [
    " Convert the 'Date of Travel' column to datetime format"
   ]
  },
  {
   "cell_type": "code",
   "execution_count": 47,
   "id": "cf168359",
   "metadata": {},
   "outputs": [],
   "source": [
    "Merged_Data['Date of Travel'] = pd.to_datetime(Merged_Data['Date of Travel'])"
   ]
  },
  {
   "cell_type": "markdown",
   "id": "1c919f6d",
   "metadata": {},
   "source": [
    "Set the 'Date of Travel' column as the index of the dataframe"
   ]
  },
  {
   "cell_type": "code",
   "execution_count": 48,
   "id": "508cd79f",
   "metadata": {},
   "outputs": [],
   "source": [
    "Merged_Data.set_index('Date of Travel', inplace=True)"
   ]
  },
  {
   "cell_type": "markdown",
   "id": "6d47b39f",
   "metadata": {},
   "source": [
    "Resample the data to a monthly frequency and count the number of occurrences"
   ]
  },
  {
   "cell_type": "code",
   "execution_count": 49,
   "id": "e654efd9",
   "metadata": {},
   "outputs": [],
   "source": [
    "monthly_counts = Merged_Data.resample('M')['Company'].count()"
   ]
  },
  {
   "cell_type": "code",
   "execution_count": 50,
   "id": "ad8d4ef2",
   "metadata": {
    "collapsed": true
   },
   "outputs": [
    {
     "data": {
      "image/png": "[encoded data removed]",
      "text/plain": [
       "<Figure size 432x288 with 1 Axes>"
      ]
     },
     "metadata": {
      "needs_background": "light"
     },
     "output_type": "display_data"
    }
   ],
   "source": [
    "plt.plot(monthly_counts)\n",
    "plt.title('Monthly Travel Counts')\n",
    "plt.show()"
   ]
  },
  {
   "cell_type": "markdown",
   "id": "027f3152",
   "metadata": {},
   "source": [
    "Decompose the time series into trend, seasonal, and residual components "
   ]
  },
  {
   "cell_type": "code",
   "execution_count": 52,
   "id": "bd2bcceb",
   "metadata": {},
   "outputs": [],
   "source": [
    "decomposition = seasonal_decompose(monthly_counts, model='additive')\n",
    "trend = decomposition.trend\n",
    "seasonal = decomposition.seasonal\n",
    "residual = decomposition.resid"
   ]
  },
  {
   "cell_type": "markdown",
   "id": "8408d49a",
   "metadata": {},
   "source": [
    "plot the decomposed time series"
   ]
  },
  {
   "cell_type": "code",
   "execution_count": 53,
   "id": "2ea4bfbc",
   "metadata": {
    "collapsed": true
   },
   "outputs": [
    {
     "data": {
      "image/png": "[encoded data removed]",
      "text/plain": [
       "<Figure size 432x288 with 4 Axes>"
      ]
     },
     "metadata": {
      "needs_background": "light"
     },
     "output_type": "display_data"
    }
   ],
   "source": [
    "plt.subplot(411)\n",
    "plt.plot(monthly_counts, label='Original')\n",
    "plt.legend(loc='upper left')\n",
    "plt.subplot(412)\n",
    "plt.plot(trend, label='Trend')\n",
    "plt.legend(loc='upper left')\n",
    "plt.subplot(413)\n",
    "plt.plot(seasonal,label='Seasonality')\n",
    "plt.legend(loc='upper left')\n",
    "plt.subplot(414)\n",
    "plt.plot(residual, label='Residuals')\n",
    "plt.legend(loc='upper left')\n",
    "plt.tight_layout()\n",
    "plt.show()"
   ]
  },
  {
   "cell_type": "markdown",
   "id": "d2fc5db6",
   "metadata": {},
   "source": [
    "create a profit column for the merged_Data"
   ]
  },
  {
   "cell_type": "code",
   "execution_count": 54,
   "id": "4a4ca158",
   "metadata": {},
   "outputs": [],
   "source": [
    "Merged_Data['Profit'] = Merged_Data['Price Charged'] - Merged_Data['Cost of Trip']"
   ]
  },
  {
   "cell_type": "code",
   "execution_count": 55,
   "id": "e9f7d59a",
   "metadata": {
    "collapsed": true
   },
   "outputs": [
    {
     "data": {
      "text/html": [
       "<div>\n",
       "<style scoped>\n",
       "    .dataframe tbody tr th:only-of-type {\n",
       "        vertical-align: middle;\n",
       "    }\n",
       "\n",
       "    .dataframe tbody tr th {\n",
       "        vertical-align: top;\n",
       "    }\n",
       "\n",
       "    .dataframe thead th {\n",
       "        text-align: right;\n",
       "    }\n",
       "</style>\n",
       "<table border=\"1\" class=\"dataframe\">\n",
       "  <thead>\n",
       "    <tr style=\"text-align: right;\">\n",
       "      <th></th>\n",
       "      <th>Transaction ID_x</th>\n",
       "      <th>Customer ID</th>\n",
       "      <th>Payment_Mode</th>\n",
       "      <th>Gender</th>\n",
       "      <th>Age</th>\n",
       "      <th>Income (USD/Month)</th>\n",
       "      <th>Transaction ID_y</th>\n",
       "      <th>Company</th>\n",
       "      <th>City</th>\n",
       "      <th>KM Travelled</th>\n",
       "      <th>Price Charged</th>\n",
       "      <th>Cost of Trip</th>\n",
       "      <th>Population</th>\n",
       "      <th>Users</th>\n",
       "      <th>Profit</th>\n",
       "    </tr>\n",
       "    <tr>\n",
       "      <th>Date of Travel</th>\n",
       "      <th></th>\n",
       "      <th></th>\n",
       "      <th></th>\n",
       "      <th></th>\n",
       "      <th></th>\n",
       "      <th></th>\n",
       "      <th></th>\n",
       "      <th></th>\n",
       "      <th></th>\n",
       "      <th></th>\n",
       "      <th></th>\n",
       "      <th></th>\n",
       "      <th></th>\n",
       "      <th></th>\n",
       "      <th></th>\n",
       "    </tr>\n",
       "  </thead>\n",
       "  <tbody>\n",
       "    <tr>\n",
       "      <th>2016-08-01</th>\n",
       "      <td>10000011</td>\n",
       "      <td>29290</td>\n",
       "      <td>Card</td>\n",
       "      <td>Male</td>\n",
       "      <td>28</td>\n",
       "      <td>10813</td>\n",
       "      <td>10000011</td>\n",
       "      <td>Pink Cab</td>\n",
       "      <td>ATLANTA GA</td>\n",
       "      <td>30.45</td>\n",
       "      <td>370.95</td>\n",
       "      <td>313.6350</td>\n",
       "      <td>814,885</td>\n",
       "      <td>24,701</td>\n",
       "      <td>57.3150</td>\n",
       "    </tr>\n",
       "    <tr>\n",
       "      <th>2016-06-01</th>\n",
       "      <td>10351127</td>\n",
       "      <td>29290</td>\n",
       "      <td>Cash</td>\n",
       "      <td>Male</td>\n",
       "      <td>28</td>\n",
       "      <td>10813</td>\n",
       "      <td>10000012</td>\n",
       "      <td>Pink Cab</td>\n",
       "      <td>ATLANTA GA</td>\n",
       "      <td>28.62</td>\n",
       "      <td>358.52</td>\n",
       "      <td>334.8540</td>\n",
       "      <td>814,885</td>\n",
       "      <td>24,701</td>\n",
       "      <td>23.6660</td>\n",
       "    </tr>\n",
       "    <tr>\n",
       "      <th>2016-02-01</th>\n",
       "      <td>10412921</td>\n",
       "      <td>29290</td>\n",
       "      <td>Card</td>\n",
       "      <td>Male</td>\n",
       "      <td>28</td>\n",
       "      <td>10813</td>\n",
       "      <td>10000013</td>\n",
       "      <td>Pink Cab</td>\n",
       "      <td>ATLANTA GA</td>\n",
       "      <td>9.04</td>\n",
       "      <td>125.20</td>\n",
       "      <td>97.6320</td>\n",
       "      <td>814,885</td>\n",
       "      <td>24,701</td>\n",
       "      <td>27.5680</td>\n",
       "    </tr>\n",
       "    <tr>\n",
       "      <th>2016-07-01</th>\n",
       "      <td>10000012</td>\n",
       "      <td>27703</td>\n",
       "      <td>Card</td>\n",
       "      <td>Male</td>\n",
       "      <td>27</td>\n",
       "      <td>9237</td>\n",
       "      <td>10000014</td>\n",
       "      <td>Pink Cab</td>\n",
       "      <td>ATLANTA GA</td>\n",
       "      <td>33.17</td>\n",
       "      <td>377.40</td>\n",
       "      <td>351.6020</td>\n",
       "      <td>814,885</td>\n",
       "      <td>24,701</td>\n",
       "      <td>25.7980</td>\n",
       "    </tr>\n",
       "    <tr>\n",
       "      <th>2016-03-01</th>\n",
       "      <td>10320494</td>\n",
       "      <td>27703</td>\n",
       "      <td>Card</td>\n",
       "      <td>Male</td>\n",
       "      <td>27</td>\n",
       "      <td>9237</td>\n",
       "      <td>10000015</td>\n",
       "      <td>Pink Cab</td>\n",
       "      <td>ATLANTA GA</td>\n",
       "      <td>8.73</td>\n",
       "      <td>114.62</td>\n",
       "      <td>97.7760</td>\n",
       "      <td>814,885</td>\n",
       "      <td>24,701</td>\n",
       "      <td>16.8440</td>\n",
       "    </tr>\n",
       "    <tr>\n",
       "      <th>...</th>\n",
       "      <td>...</td>\n",
       "      <td>...</td>\n",
       "      <td>...</td>\n",
       "      <td>...</td>\n",
       "      <td>...</td>\n",
       "      <td>...</td>\n",
       "      <td>...</td>\n",
       "      <td>...</td>\n",
       "      <td>...</td>\n",
       "      <td>...</td>\n",
       "      <td>...</td>\n",
       "      <td>...</td>\n",
       "      <td>...</td>\n",
       "      <td>...</td>\n",
       "      <td>...</td>\n",
       "    </tr>\n",
       "    <tr>\n",
       "      <th>2018-08-01</th>\n",
       "      <td>10052232</td>\n",
       "      <td>29086</td>\n",
       "      <td>Cash</td>\n",
       "      <td>Female</td>\n",
       "      <td>37</td>\n",
       "      <td>3484</td>\n",
       "      <td>10440101</td>\n",
       "      <td>Yellow Cab</td>\n",
       "      <td>WASHINGTON DC</td>\n",
       "      <td>4.80</td>\n",
       "      <td>69.24</td>\n",
       "      <td>63.3600</td>\n",
       "      <td>418,859</td>\n",
       "      <td>127,001</td>\n",
       "      <td>5.8800</td>\n",
       "    </tr>\n",
       "    <tr>\n",
       "      <th>2018-04-01</th>\n",
       "      <td>10411642</td>\n",
       "      <td>29086</td>\n",
       "      <td>Card</td>\n",
       "      <td>Female</td>\n",
       "      <td>37</td>\n",
       "      <td>3484</td>\n",
       "      <td>10440104</td>\n",
       "      <td>Yellow Cab</td>\n",
       "      <td>WASHINGTON DC</td>\n",
       "      <td>8.40</td>\n",
       "      <td>113.75</td>\n",
       "      <td>106.8480</td>\n",
       "      <td>418,859</td>\n",
       "      <td>127,001</td>\n",
       "      <td>6.9020</td>\n",
       "    </tr>\n",
       "    <tr>\n",
       "      <th>2018-05-01</th>\n",
       "      <td>10052234</td>\n",
       "      <td>27715</td>\n",
       "      <td>Cash</td>\n",
       "      <td>Male</td>\n",
       "      <td>23</td>\n",
       "      <td>19368</td>\n",
       "      <td>10440105</td>\n",
       "      <td>Yellow Cab</td>\n",
       "      <td>WASHINGTON DC</td>\n",
       "      <td>27.75</td>\n",
       "      <td>437.07</td>\n",
       "      <td>349.6500</td>\n",
       "      <td>418,859</td>\n",
       "      <td>127,001</td>\n",
       "      <td>87.4200</td>\n",
       "    </tr>\n",
       "    <tr>\n",
       "      <th>2018-05-01</th>\n",
       "      <td>10179729</td>\n",
       "      <td>27715</td>\n",
       "      <td>Card</td>\n",
       "      <td>Male</td>\n",
       "      <td>23</td>\n",
       "      <td>19368</td>\n",
       "      <td>10440106</td>\n",
       "      <td>Yellow Cab</td>\n",
       "      <td>WASHINGTON DC</td>\n",
       "      <td>8.80</td>\n",
       "      <td>146.19</td>\n",
       "      <td>114.0480</td>\n",
       "      <td>418,859</td>\n",
       "      <td>127,001</td>\n",
       "      <td>32.1420</td>\n",
       "    </tr>\n",
       "    <tr>\n",
       "      <th>2018-02-01</th>\n",
       "      <td>10301965</td>\n",
       "      <td>27715</td>\n",
       "      <td>Card</td>\n",
       "      <td>Male</td>\n",
       "      <td>23</td>\n",
       "      <td>19368</td>\n",
       "      <td>10440107</td>\n",
       "      <td>Yellow Cab</td>\n",
       "      <td>WASHINGTON DC</td>\n",
       "      <td>12.76</td>\n",
       "      <td>191.58</td>\n",
       "      <td>177.6192</td>\n",
       "      <td>418,859</td>\n",
       "      <td>127,001</td>\n",
       "      <td>13.9608</td>\n",
       "    </tr>\n",
       "  </tbody>\n",
       "</table>\n",
       "<p>359392 rows × 15 columns</p>\n",
       "</div>"
      ],
      "text/plain": [
       "                Transaction ID_x  Customer ID Payment_Mode  Gender  Age  \\\n",
       "Date of Travel                                                            \n",
       "2016-08-01              10000011        29290         Card    Male   28   \n",
       "2016-06-01              10351127        29290         Cash    Male   28   \n",
       "2016-02-01              10412921        29290         Card    Male   28   \n",
       "2016-07-01              10000012        27703         Card    Male   27   \n",
       "2016-03-01              10320494        27703         Card    Male   27   \n",
       "...                          ...          ...          ...     ...  ...   \n",
       "2018-08-01              10052232        29086         Cash  Female   37   \n",
       "2018-04-01              10411642        29086         Card  Female   37   \n",
       "2018-05-01              10052234        27715         Cash    Male   23   \n",
       "2018-05-01              10179729        27715         Card    Male   23   \n",
       "2018-02-01              10301965        27715         Card    Male   23   \n",
       "\n",
       "                Income (USD/Month)  Transaction ID_y     Company  \\\n",
       "Date of Travel                                                     \n",
       "2016-08-01                   10813          10000011    Pink Cab   \n",
       "2016-06-01                   10813          10000012    Pink Cab   \n",
       "2016-02-01                   10813          10000013    Pink Cab   \n",
       "2016-07-01                    9237          10000014    Pink Cab   \n",
       "2016-03-01                    9237          10000015    Pink Cab   \n",
       "...                            ...               ...         ...   \n",
       "2018-08-01                    3484          10440101  Yellow Cab   \n",
       "2018-04-01                    3484          10440104  Yellow Cab   \n",
       "2018-05-01                   19368          10440105  Yellow Cab   \n",
       "2018-05-01                   19368          10440106  Yellow Cab   \n",
       "2018-02-01                   19368          10440107  Yellow Cab   \n",
       "\n",
       "                         City  KM Travelled  Price Charged  Cost of Trip  \\\n",
       "Date of Travel                                                             \n",
       "2016-08-01         ATLANTA GA         30.45         370.95      313.6350   \n",
       "2016-06-01         ATLANTA GA         28.62         358.52      334.8540   \n",
       "2016-02-01         ATLANTA GA          9.04         125.20       97.6320   \n",
       "2016-07-01         ATLANTA GA         33.17         377.40      351.6020   \n",
       "2016-03-01         ATLANTA GA          8.73         114.62       97.7760   \n",
       "...                       ...           ...            ...           ...   \n",
       "2018-08-01      WASHINGTON DC          4.80          69.24       63.3600   \n",
       "2018-04-01      WASHINGTON DC          8.40         113.75      106.8480   \n",
       "2018-05-01      WASHINGTON DC         27.75         437.07      349.6500   \n",
       "2018-05-01      WASHINGTON DC          8.80         146.19      114.0480   \n",
       "2018-02-01      WASHINGTON DC         12.76         191.58      177.6192   \n",
       "\n",
       "               Population      Users   Profit  \n",
       "Date of Travel                                 \n",
       "2016-08-01       814,885     24,701   57.3150  \n",
       "2016-06-01       814,885     24,701   23.6660  \n",
       "2016-02-01       814,885     24,701   27.5680  \n",
       "2016-07-01       814,885     24,701   25.7980  \n",
       "2016-03-01       814,885     24,701   16.8440  \n",
       "...                   ...        ...      ...  \n",
       "2018-08-01       418,859    127,001    5.8800  \n",
       "2018-04-01       418,859    127,001    6.9020  \n",
       "2018-05-01       418,859    127,001   87.4200  \n",
       "2018-05-01       418,859    127,001   32.1420  \n",
       "2018-02-01       418,859    127,001   13.9608  \n",
       "\n",
       "[359392 rows x 15 columns]"
      ]
     },
     "execution_count": 55,
     "metadata": {},
     "output_type": "execute_result"
    }
   ],
   "source": [
    "Merged_Data"
   ]
  },
  {
   "cell_type": "code",
   "execution_count": 56,
   "id": "d1a15d41",
   "metadata": {
    "collapsed": true
   },
   "outputs": [
    {
     "data": {
      "image/png": "[encoded data removed]",
      "text/plain": [
       "<Figure size 864x432 with 1 Axes>"
      ]
     },
     "metadata": {
      "needs_background": "light"
     },
     "output_type": "display_data"
    }
   ],
   "source": [
    "plt.figure(figsize=(12, 6))\n",
    "plt.plot(Merged_Data['Profit'])\n",
    "plt.title('Profit over Time')\n",
    "plt.xlabel('Year')\n",
    "plt.ylabel('Profit')\n",
    "plt.show()"
   ]
  },
  {
   "cell_type": "markdown",
   "id": "e01fd23e",
   "metadata": {},
   "source": [
    " Compute the monthly average profit"
   ]
  },
  {
   "cell_type": "code",
   "execution_count": 57,
   "id": "3c2e5193",
   "metadata": {},
   "outputs": [],
   "source": [
    "monthly_profit = Merged_Data['Profit'].resample('M').mean()"
   ]
  },
  {
   "cell_type": "markdown",
   "id": "357b41f5",
   "metadata": {},
   "source": [
    "Decompose the time series into its components"
   ]
  },
  {
   "cell_type": "code",
   "execution_count": 58,
   "id": "0f02c35e",
   "metadata": {},
   "outputs": [],
   "source": [
    "result = seasonal_decompose(monthly_profit, model='additive')"
   ]
  },
  {
   "cell_type": "code",
   "execution_count": 59,
   "id": "c5c7e951",
   "metadata": {
    "collapsed": true
   },
   "outputs": [
    {
     "data": {
      "image/png": "[encoded data removed]",
      "text/plain": [
       "<Figure size 432x288 with 4 Axes>"
      ]
     },
     "metadata": {
      "needs_background": "light"
     },
     "output_type": "display_data"
    }
   ],
   "source": [
    "result.plot()\n",
    "plt.show()"
   ]
  },
  {
   "cell_type": "markdown",
   "id": "07f717bc",
   "metadata": {},
   "source": [
    "Compute the yearly average profit"
   ]
  },
  {
   "cell_type": "code",
   "execution_count": 60,
   "id": "b29fb21b",
   "metadata": {},
   "outputs": [],
   "source": [
    "yearly_profit = Merged_Data['Profit'].resample('Y').mean()"
   ]
  },
  {
   "cell_type": "markdown",
   "id": "f98147e4",
   "metadata": {},
   "source": [
    "Decompose the time series into its components"
   ]
  },
  {
   "cell_type": "code",
   "execution_count": 63,
   "id": "ca7d25d9",
   "metadata": {},
   "outputs": [],
   "source": [
    "result = seasonal_decompose(yearly_profit, model='additive')"
   ]
  },
  {
   "cell_type": "code",
   "execution_count": 64,
   "id": "0cca3908",
   "metadata": {
    "collapsed": true
   },
   "outputs": [
    {
     "data": {
      "image/png": "[encoded data removed]",
      "text/plain": [
       "<Figure size 432x288 with 4 Axes>"
      ]
     },
     "metadata": {
      "needs_background": "light"
     },
     "output_type": "display_data"
    }
   ],
   "source": [
    "result.plot()\n",
    "plt.show()"
   ]
  },
  {
   "cell_type": "markdown",
   "id": "1fdaa19a",
   "metadata": {},
   "source": [
    "Create a new dataframe grouped by company and date with profit as the value"
   ]
  },
  {
   "cell_type": "code",
   "execution_count": 65,
   "id": "4d6acd76",
   "metadata": {},
   "outputs": [],
   "source": [
    "company_profit = Merged_Data.groupby(['Company', 'Date of Travel'])['Profit'].sum().reset_index()"
   ]
  },
  {
   "cell_type": "markdown",
   "id": "c132bf35",
   "metadata": {},
   "source": [
    " Loop through the unique companies and plot their profit over time"
   ]
  },
  {
   "cell_type": "code",
   "execution_count": 68,
   "id": "41431a9c",
   "metadata": {
    "collapsed": true
   },
   "outputs": [
    {
     "data": {
      "image/png": "[encoded data removed]",
      "text/plain": [
       "<Figure size 432x288 with 1 Axes>"
      ]
     },
     "metadata": {
      "needs_background": "light"
     },
     "output_type": "display_data"
    }
   ],
   "source": [
    "for company in company_profit['Company'].unique():\n",
    "    company_data = company_profit[company_profit['Company'] == company]\n",
    "    plt.plot(company_data['Date of Travel'], company_data['Profit'], label=company)\n",
    "    plt.gcf().autofmt_xdate()\n",
    "    plt.title('Profit by Company and Date')\n",
    "plt.legend()\n",
    "plt.xlabel('Date')\n",
    "plt.ylabel('Profit')\n",
    "plt.show()\n",
    "    "
   ]
  },
  {
   "cell_type": "markdown",
   "id": "2d65e64b",
   "metadata": {},
   "source": [
    "### Summary"
   ]
  },
  {
   "cell_type": "markdown",
   "id": "2c9d473d",
   "metadata": {},
   "source": [
    "The necessary libraries for the analysis were imported and the datasets were also imported. The four datasets were merged to get a single data which was labelled 'Merged_Data'.\n",
    "The numerical variables were seperated from the categorical variables to prepare them for further analysis.\n",
    "Descriptive analysis was carried and results of the measures of cental tendency and other measures were obtained.\n",
    "Correlation analysis was also carried out and a heat map was plotted to get the correlation between the numerical variables. The chi2 test of independence was carried out on some of the categorical variables and results were obtained.\n",
    "Time series analysis was carried out and trends were observed with the plots."
   ]
  }
 ],
 "metadata": {
  "kernelspec": {
   "display_name": "Python 3 (ipykernel)",
   "language": "python",
   "name": "python3"
  },
  "language_info": {
   "codemirror_mode": {
    "name": "ipython",
    "version": 3
   },
   "file_extension": ".py",
   "mimetype": "text/x-python",
   "name": "python",
   "nbconvert_exporter": "python",
   "pygments_lexer": "ipython3",
   "version": "3.9.7"
  }
 },
 "nbformat": 4,
 "nbformat_minor": 5
}
